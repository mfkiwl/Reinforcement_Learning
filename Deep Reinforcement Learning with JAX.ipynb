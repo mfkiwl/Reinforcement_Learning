{
 "cells": [
  {
   "cell_type": "markdown",
   "metadata": {
    "id": "7TYEJzjdBD8s"
   },
   "source": [
    "# REINFORCEMENT LEARNING\n",
    "\n",
    "### Author: Hyungjoo Kim\n",
    "\n",
    "##### All data was provided by University College London, Department of Computer Science, Reinforcement Learning Module\n",
    "\n",
    "##### Supervisor: Prof. Hado Van Hasselt, Matteo Hessel, and Diana Borsa"
   ]
  },
  {
   "cell_type": "markdown",
   "metadata": {},
   "source": [
    "# Part 2: Deep RL \n",
    "You will be guided through the implementation of a full deep reinforcement learning agent."
   ]
  },
  {
   "cell_type": "markdown",
   "metadata": {
    "id": "iIRC73HLq6VH"
   },
   "source": [
    "## 2A) Actor-critics\n",
    "\n",
    "You are going to implement an Actor-critic agent that updates a policy parametrised as a deep neural network.\n",
    "\n",
    "The agent learns online from a single stream of experience, updating the parametes of its policy after each transition in the environment."
   ]
  },
  {
   "cell_type": "markdown",
   "metadata": {
    "id": "KV03Q3MpveUM"
   },
   "source": [
    "### Install packages"
   ]
  },
  {
   "cell_type": "code",
   "execution_count": 11,
   "metadata": {
    "id": "wc-kqp3tveUT",
    "scrolled": true
   },
   "outputs": [
    {
     "name": "stdout",
     "output_type": "stream",
     "text": [
      "fatal: destination path 'bsuite' already exists and is not an empty directory.\n",
      "Processing ./bsuite\n",
      "Requirement already satisfied: absl-py in /home/hyungjoo/anaconda3/lib/python3.8/site-packages (from bsuite==0.3.5) (0.12.0)\n",
      "Requirement already satisfied: dm_env in /home/hyungjoo/anaconda3/lib/python3.8/site-packages (from bsuite==0.3.5) (1.4)\n",
      "Requirement already satisfied: frozendict in /home/hyungjoo/anaconda3/lib/python3.8/site-packages (from bsuite==0.3.5) (1.2)\n",
      "Requirement already satisfied: gym in /home/hyungjoo/anaconda3/lib/python3.8/site-packages (from bsuite==0.3.5) (0.18.0)\n",
      "Requirement already satisfied: matplotlib in /home/hyungjoo/anaconda3/lib/python3.8/site-packages (from bsuite==0.3.5) (3.3.2)\n",
      "Requirement already satisfied: numpy in /home/hyungjoo/anaconda3/lib/python3.8/site-packages (from bsuite==0.3.5) (1.19.2)\n",
      "Requirement already satisfied: pandas in /home/hyungjoo/anaconda3/lib/python3.8/site-packages (from bsuite==0.3.5) (1.1.3)\n",
      "Requirement already satisfied: plotnine in /home/hyungjoo/anaconda3/lib/python3.8/site-packages (from bsuite==0.3.5) (0.8.0)\n",
      "Requirement already satisfied: scipy in /home/hyungjoo/anaconda3/lib/python3.8/site-packages (from bsuite==0.3.5) (1.5.2)\n",
      "Requirement already satisfied: scikit-image in /home/hyungjoo/anaconda3/lib/python3.8/site-packages (from bsuite==0.3.5) (0.17.2)\n",
      "Requirement already satisfied: six in /home/hyungjoo/anaconda3/lib/python3.8/site-packages (from bsuite==0.3.5) (1.15.0)\n",
      "Requirement already satisfied: termcolor in /home/hyungjoo/anaconda3/lib/python3.8/site-packages (from bsuite==0.3.5) (1.1.0)\n",
      "Requirement already satisfied: dm-tree in /home/hyungjoo/anaconda3/lib/python3.8/site-packages (from dm_env->bsuite==0.3.5) (0.1.6)\n",
      "Requirement already satisfied: cloudpickle<1.7.0,>=1.2.0 in /home/hyungjoo/anaconda3/lib/python3.8/site-packages (from gym->bsuite==0.3.5) (1.6.0)\n",
      "Requirement already satisfied: pyglet<=1.5.0,>=1.4.0 in /home/hyungjoo/anaconda3/lib/python3.8/site-packages (from gym->bsuite==0.3.5) (1.5.0)\n",
      "Requirement already satisfied: Pillow<=7.2.0 in /home/hyungjoo/anaconda3/lib/python3.8/site-packages (from gym->bsuite==0.3.5) (7.2.0)\n",
      "Requirement already satisfied: kiwisolver>=1.0.1 in /home/hyungjoo/anaconda3/lib/python3.8/site-packages (from matplotlib->bsuite==0.3.5) (1.3.0)\n",
      "Requirement already satisfied: certifi>=2020.06.20 in /home/hyungjoo/anaconda3/lib/python3.8/site-packages (from matplotlib->bsuite==0.3.5) (2020.6.20)\n",
      "Requirement already satisfied: python-dateutil>=2.1 in /home/hyungjoo/anaconda3/lib/python3.8/site-packages (from matplotlib->bsuite==0.3.5) (2.8.1)\n",
      "Requirement already satisfied: pyparsing!=2.0.4,!=2.1.2,!=2.1.6,>=2.0.3 in /home/hyungjoo/anaconda3/lib/python3.8/site-packages (from matplotlib->bsuite==0.3.5) (2.4.7)\n",
      "Requirement already satisfied: cycler>=0.10 in /home/hyungjoo/anaconda3/lib/python3.8/site-packages (from matplotlib->bsuite==0.3.5) (0.10.0)\n",
      "Requirement already satisfied: pytz>=2017.2 in /home/hyungjoo/anaconda3/lib/python3.8/site-packages (from pandas->bsuite==0.3.5) (2020.1)\n",
      "Requirement already satisfied: statsmodels>=0.12.1 in /home/hyungjoo/anaconda3/lib/python3.8/site-packages (from plotnine->bsuite==0.3.5) (0.12.2)\n",
      "Requirement already satisfied: mizani>=0.7.3 in /home/hyungjoo/anaconda3/lib/python3.8/site-packages (from plotnine->bsuite==0.3.5) (0.7.3)\n",
      "Requirement already satisfied: descartes>=1.1.0 in /home/hyungjoo/anaconda3/lib/python3.8/site-packages (from plotnine->bsuite==0.3.5) (1.1.0)\n",
      "Requirement already satisfied: patsy>=0.5.1 in /home/hyungjoo/anaconda3/lib/python3.8/site-packages (from plotnine->bsuite==0.3.5) (0.5.1)\n",
      "Requirement already satisfied: networkx>=2.0 in /home/hyungjoo/anaconda3/lib/python3.8/site-packages (from scikit-image->bsuite==0.3.5) (2.5)\n",
      "Requirement already satisfied: imageio>=2.3.0 in /home/hyungjoo/anaconda3/lib/python3.8/site-packages (from scikit-image->bsuite==0.3.5) (2.9.0)\n",
      "Requirement already satisfied: tifffile>=2019.7.26 in /home/hyungjoo/anaconda3/lib/python3.8/site-packages (from scikit-image->bsuite==0.3.5) (2020.10.1)\n",
      "Requirement already satisfied: PyWavelets>=1.1.1 in /home/hyungjoo/anaconda3/lib/python3.8/site-packages (from scikit-image->bsuite==0.3.5) (1.1.1)\n",
      "Requirement already satisfied: future in /home/hyungjoo/anaconda3/lib/python3.8/site-packages (from pyglet<=1.5.0,>=1.4.0->gym->bsuite==0.3.5) (0.18.2)\n",
      "Requirement already satisfied: palettable in /home/hyungjoo/anaconda3/lib/python3.8/site-packages (from mizani>=0.7.3->plotnine->bsuite==0.3.5) (3.3.0)\n",
      "Requirement already satisfied: decorator>=4.3.0 in /home/hyungjoo/anaconda3/lib/python3.8/site-packages (from networkx>=2.0->scikit-image->bsuite==0.3.5) (4.4.2)\n",
      "Building wheels for collected packages: bsuite\n",
      "  Building wheel for bsuite (setup.py) ... \u001b[?25ldone\n",
      "\u001b[?25h  Created wheel for bsuite: filename=bsuite-0.3.5-py3-none-any.whl size=249668 sha256=188c2f9233ef5ed829434d6a63f08bfd904b16863373e8302088dd29cf3665be\n",
      "  Stored in directory: /tmp/pip-ephem-wheel-cache-mqmnhl96/wheels/5f/3d/04/cf2b2795a7240c1c4b24a7187390931b2df1dad27772de0f9c\n",
      "Successfully built bsuite\n",
      "Installing collected packages: bsuite\n",
      "  Attempting uninstall: bsuite\n",
      "    Found existing installation: bsuite 0.3.5\n",
      "    Uninstalling bsuite-0.3.5:\n",
      "      Successfully uninstalled bsuite-0.3.5\n",
      "Successfully installed bsuite-0.3.5\n",
      "Requirement already satisfied: dm-haiku in /home/hyungjoo/anaconda3/lib/python3.8/site-packages (0.0.4)\n",
      "Requirement already satisfied: absl-py>=0.7.1 in /home/hyungjoo/anaconda3/lib/python3.8/site-packages (from dm-haiku) (0.12.0)\n",
      "Requirement already satisfied: numpy>=1.18.0 in /home/hyungjoo/anaconda3/lib/python3.8/site-packages (from dm-haiku) (1.19.2)\n",
      "Requirement already satisfied: tabulate>=0.8.9 in /home/hyungjoo/anaconda3/lib/python3.8/site-packages (from dm-haiku) (0.8.9)\n",
      "Requirement already satisfied: six in /home/hyungjoo/anaconda3/lib/python3.8/site-packages (from absl-py>=0.7.1->dm-haiku) (1.15.0)\n"
     ]
    }
   ],
   "source": [
    "!git clone https://github.com/deepmind/bsuite.git\n",
    "!pip install bsuite/\n",
    "!pip install dm-haiku"
   ]
  },
  {
   "cell_type": "markdown",
   "metadata": {
    "id": "r_pTfi5dSFX5"
   },
   "source": [
    "### Imports"
   ]
  },
  {
   "cell_type": "code",
   "execution_count": 63,
   "metadata": {
    "id": "huyKrYpvSHSu"
   },
   "outputs": [],
   "source": [
    "from bsuite.environments import catch\n",
    "\n",
    "import jax\n",
    "import jax.numpy as jnp\n",
    "import haiku as hk\n",
    "\n",
    "import numpy as np\n",
    "import matplotlib.pyplot as plt"
   ]
  },
  {
   "cell_type": "markdown",
   "metadata": {
    "id": "M6kEki4XHbPy"
   },
   "source": [
    "### Plotting"
   ]
  },
  {
   "cell_type": "code",
   "execution_count": 64,
   "metadata": {
    "id": "EYdWwRrbHbcl"
   },
   "outputs": [],
   "source": [
    "def plot_learning_curve(list_of_episode_returns):\n",
    "  \"\"\"Plot the learning curve.\"\"\"\n",
    "  plt.figure(figsize=(7, 5))\n",
    "\n",
    "  def moving_average(x, w):\n",
    "      return np.convolve(x, np.ones(w), 'valid') / w\n",
    "\n",
    "  smoothed_returns = moving_average(list_of_episode_returns, 30)\n",
    "  plt.plot(smoothed_returns)\n",
    "\n",
    "  plt.xlabel('Average episode returns')\n",
    "  plt.xlabel('Number of episodes')\n",
    "\n",
    "  ax = plt.gca()\n",
    "  ax.spines['left'].set_visible(True)\n",
    "  ax.spines['bottom'].set_visible(True)\n",
    "  ax.spines['right'].set_visible(False)\n",
    "  ax.spines['top'].set_visible(False)\n",
    "  ax.xaxis.set_ticks_position('bottom')\n",
    "  ax.yaxis.set_ticks_position('left')"
   ]
  },
  {
   "cell_type": "markdown",
   "metadata": {
    "id": "Xtlrr5d2p7cS"
   },
   "source": [
    "### Neural networks\n",
    "\n",
    "You will now use JAX to define a network parametrising:\n",
    "\n",
    "* The values of each state $v_{\\pi}(s)$.\n",
    "* The action preferences in each state $\\{p_i(s)\\}_{i\\in\\{1, ..., |A|\\}}$ (you can think of and implement the preferences $\\mathbf{p}(s)$ as a vector output with $|A|$ elements).\n",
    "\n",
    "You will use `Haiku` (https://github.com/deepmind/dm-haiku) to define the network. You will need to:\n",
    "* define the forward pass of the network as some function `fn`\n",
    "* Use `hk.transform(fn)` to convert this in a pair of functions (`init_net`, and `apply_net`):\n",
    "\n",
    "The `init` function has signature `parameters = init_net(key, obs)`. \n",
    "  * takes a `jax.random.PRNGKey` and an `observation`\n",
    "  * returns randomly sampled weights for the neural network.\n",
    "\n",
    "The `apply_net` functions have signature `v, p = apply_net(parameters, key, obs)` \n",
    "  * takes the current set of `parameters`, a `jax.random.PRNGKey` and an `observation`\n",
    "  * returns a scalar value `v` and a vector of preferences `p`"
   ]
  },
  {
   "cell_type": "markdown",
   "metadata": {
    "id": "Gj1nsUYuOoe1"
   },
   "source": [
    "### Q 3.1 \n",
    "\n",
    "Define the forward pass of the neural network. The network must:\n",
    "\n",
    "* take an `observation` as input\n",
    "* reshape the observation into a flat vector `flat_obs`\n",
    "* compute a hidden representation `h = Relu(W.dot(flat_obs) + b)`\n",
    "* compute a vector of action preferences as a linear function of `h`\n",
    "* compute a scalar state value as a linear function of `h`\n",
    "* return the scalar value and vector preferences.\n",
    "\n",
    "Note:\n",
    "* The hidden layer should have 50 units\n",
    "* the action preferences should be a vector of 3 elements (one per each available action),\n",
    "* the value should be a scalar (not a vector with one element).\n"
   ]
  },
  {
   "cell_type": "code",
   "execution_count": 65,
   "metadata": {
    "id": "vRBP0xjtQvTi"
   },
   "outputs": [],
   "source": [
    "def forward_pass(observation):\n",
    "    flat_obs = lambda x: jnp.reshape(x, (-1, ))\n",
    "    network = hk.Sequential([\n",
    "        flat_obs,\n",
    "        hk.Linear(50),\n",
    "        jax.nn.relu\n",
    "    ])    \n",
    "    # Compute a hidden representation\n",
    "    h = network(observation)\n",
    "    # Compute a vector of action preferences as a linear function of h\n",
    "    action_preferences = hk.Linear(3)(h)\n",
    "    # Compute a scalar state value as a linear function of h\n",
    "    value = hk.Linear(1)(h).squeeze(axis = -1)\n",
    "    return action_preferences, value\n",
    "\n",
    "init_net, apply_net = hk.transform(forward_pass)"
   ]
  },
  {
   "cell_type": "markdown",
   "metadata": {
    "id": "9ImJUgzFosvD"
   },
   "source": [
    "### Choosing actions\n",
    "\n",
    "A critical component of an actor-critic agent is a (stochastic) policy, mapping `observations` to `actions`. \n",
    "\n",
    "In deep RL, this mapping is conventionally parametrised by a deep neural network."
   ]
  },
  {
   "cell_type": "markdown",
   "metadata": {
    "id": "1MVXNWwlYW24"
   },
   "source": [
    "### Q 3.2 \n",
    "\n",
    "Implement a softmax policy parametrised by the neural network above (i.e., using the `apply_net` function).\n",
    "\n",
    "The function has signature `action = softmax_policy(net_params, key, obs)`,\n",
    "* Taking the current network parameters `net_params`, a JAX random `key` and the current `observation`\n",
    "* Returning an `action` sampled from a softmax distribution (with temperature 1.) over the set of preferences output by the neural network.\n",
    "\n",
    "Functions to perform random sampling in JAX (e.g. those in `jax.random`) take a random key as input, and they are deterministic function of such a key. In general, in a JAX program you will therefore need to use the `split` function to generate a new random key before every new sampling. The run loop that runs the experiment later on splits the key between consecutive calls to the `policy`. Thus you can assume that a new random `key` is provided to you on each call to the `policy`, however if you need a random key in multiple places within the `policy`, do remember to split the key before each use."
   ]
  },
  {
   "cell_type": "code",
   "execution_count": 66,
   "metadata": {
    "id": "x-FSOYNOYnUx"
   },
   "outputs": [],
   "source": [
    "@jax.jit\n",
    "def softmax_policy(net_params, key, obs):\n",
    "  \"\"\"Sample action from a softmax policy.\"\"\"\n",
    "  preferences, value = apply_net(net_params, key, obs)\n",
    "  softmax_policy = jax.nn.softmax(preferences)\n",
    "  action = jax.random.choice(key, jnp.arange(len(preferences)), p = softmax_policy)\n",
    "  return action"
   ]
  },
  {
   "cell_type": "markdown",
   "metadata": {
    "id": "iMYcb7Y9krnT"
   },
   "source": [
    "### Learning values and policies\n",
    "\n",
    "An actor-critic agent requires to update the parameters of the network so as to simultaneously improve the value predictions and the policy.\n",
    "\n",
    "In the next section you will define the gradient updates for each of these two components."
   ]
  },
  {
   "cell_type": "markdown",
   "metadata": {
    "id": "GsIlpmNEk5fv"
   },
   "source": [
    "### Q 3.3\n",
    "\n",
    "Implement a function to compute a stochastic estimate of the policy gradient from a 1 step transition in the environment.\n",
    "\n",
    "* You will use $R_{t+1} + \\gamma v(S_{t+1})$ as an estimate of $q_{\\pi}(S_t, A_t)$\n",
    "* You will use $v(S_{t})$ as a baseline to reduce the variance of the updates.\n",
    "\n",
    "The function must have signature `grads = policy_gradient(net_params, obs_tm1, a_tm1, r_t, discount_t, obs_t)`.\n",
    "* Where the inputs are:\n",
    "  * the parameters `net_params` of the network,\n",
    "  * an observation `obs_tm1`\n",
    "  * the action `a_tm1` selected after observing `obs_tm1`,\n",
    "  * the resulting reward `r_t` and environment discount `discount_t` \n",
    "  * and the following observation `obs_t`\n",
    "* Returns a stochastic estimate of the policy gradient.\n",
    "  * `grads` has the same structure as `net_params`\n",
    "  * as it contains an estimate of the gradient of the expected episodic return wrt to each parameter "
   ]
  },
  {
   "cell_type": "code",
   "execution_count": 68,
   "metadata": {
    "id": "AHLGjy8he6vh"
   },
   "outputs": [],
   "source": [
    "def policy_gradient(net_params, key, obs_tm1, a_tm1, r_t, discount_t, obs_t):\n",
    "    # A stochastic estimate of the policy gradient using the computed policy\n",
    "    grads = jax.grad(policy)(net_params, key, obs_tm1, a_tm1, r_t, discount_t, obs_t)\n",
    "    return grads\n",
    "\n",
    "def policy(net_params, key, obs_tm1, a_tm1, r_t, discount_t, obs_t):\n",
    "    # Compute the scalar value and vector perferences using an observation\n",
    "    preferences, value = apply_net(net_params, key, obs_tm1)\n",
    "    # Compute the scalar value and vector preferences using the following observation\n",
    "    next_p, next_v = apply_net(net_params, key, obs_t)\n",
    "    # Compute the policy \n",
    "    computed_policy = jax.lax.stop_gradient(r_t + discount_t * next_v - value) * jax.nn.log_softmax(preferences)[a_tm1]\n",
    "    return computed_policy"
   ]
  },
  {
   "cell_type": "markdown",
   "metadata": {
    "id": "5XgjefrBlIGN"
   },
   "source": [
    "### Q 3.4 \n",
    "\n",
    "Implement a function to compute a stochastic estimate of the negative gradient of the value loss:   $ L(\\theta) = E_{s \\sim \\pi}[(v_{\\theta}(s) - v_{\\pi}(s))^2]$\n",
    "\n",
    "As for the policy gradient, this must be computed from a 1 step transition in the environment, so using bootstrapping after one step.\n",
    "\n",
    "It must have signature `neg_grads = neg_value_loss_gradient(net_params, obs_tm1, a_tm1, r_t, discount_t, obs_t)`.\n",
    "* Where the inputs are:\n",
    "  * the current parameters `net_params` of the network,\n",
    "  * an observation `obs_tm1`\n",
    "  * the action `a_tm1` selected after observing `obs_tm1`,\n",
    "  * the resulting reward `r_t` and environment discount `discount_t` \n",
    "  * and the following observation `obs_t`\n",
    "* Returns a stochastic estimate of the policy gradient.\n",
    "  * `neg_grads` has the same structure as `net_params`\n",
    "  * as it contains a stochastic estimate of the negative gradient of the expected value prediction loss "
   ]
  },
  {
   "cell_type": "code",
   "execution_count": 69,
   "metadata": {
    "id": "CAONu72iTpzx"
   },
   "outputs": [],
   "source": [
    "def neg_value_loss_gradient(net_params, key, obs_tm1, a_tm1, r_t, discount_t, obs_t):\n",
    "    # A stochastic estimate of the negative gradient of the value loss using computed loss function from the bottom side\n",
    "    neg_grads = jax.grad(loss)(net_params, key, obs_tm1, a_tm1, r_t, discount_t, obs_t)\n",
    "    return neg_grads\n",
    "\n",
    "def loss(net_params, key, obs_tm1, a_tm1, r_t, discount_t, obs_t):\n",
    "    # Compute the scalar value and vector perferences using an observation\n",
    "    preferences, value = apply_net(net_params, key, obs_tm1)\n",
    "    # Compute the scalar value and vector preferences using the following observation\n",
    "    next_p, next_v = apply_net(net_params, key, obs_t)\n",
    "    # Compute the Loss function\n",
    "    value_loss = -0.5 * (value - jax.lax.stop_gradient(r_t + discount_t * next_v))**2\n",
    "    return value_loss"
   ]
  },
  {
   "cell_type": "markdown",
   "metadata": {
    "id": "jAXgLZg8mfMd"
   },
   "source": [
    "### Updating shared parameters\n",
    "\n",
    "The policy gradient identifies the direction of change in the parameters that most steeply improve the policy.\n",
    "The negative gradient of the value loss identifies the direction of change in the parameters that most steeply improves the value predictions.\n",
    "\n",
    "However, note that the value and policy share some of the parameters of the network.  How do we combine the two gradient updates?\n",
    "\n",
    "In this assignment, we will simply sum the policy and value components.\n",
    "The function that combines the two gradients is implemented for you in the cell below."
   ]
  },
  {
   "cell_type": "code",
   "execution_count": 70,
   "metadata": {
    "id": "uhKCLe8jjkdZ"
   },
   "outputs": [],
   "source": [
    "@jax.jit\n",
    "def compute_gradient(net_params, key, obs_tm1, a_tm1, r_t, discount_t, obs_t):\n",
    "  k1, k2 = jax.random.split(key, 2)\n",
    "  pgrads = policy_gradient(net_params, k1, obs_tm1, a_tm1, r_t, discount_t, obs_t)\n",
    "  vgrads = neg_value_loss_gradient(net_params, k2, obs_tm1, a_tm1, r_t, discount_t, obs_t)\n",
    "  return jax.tree_multimap(lambda pg, vg: pg + vg, pgrads, vgrads)"
   ]
  },
  {
   "cell_type": "markdown",
   "metadata": {
    "id": "tYaVb6GcpCRe"
   },
   "source": [
    "### Optimisation\n",
    "\n",
    "The gradient updates are typically rescaled to avoid taking too large a step on a single update.\n",
    "For instance given a candidate gradient update $\\nabla$ we may update our parameters $\\theta$ by;\n",
    "$$\\Delta \\theta = \\theta + \\alpha * \\nabla\\,,$$\n",
    "where $\\alpha$ is a small number between 0 and 1 (e.g., $\\alpha=0.01$ or $\\alpha=0.001$), referred to as `step_size` or `learning_rate`\n",
    "\n",
    "The gradients with respect to each weight of a neural network may however have very different magnitudes. This can make it hard to set a suitable learning rate $\\alpha$.\n",
    "\n",
    "In deep learning, and deep RL, we typically use adaptive learning rates, for instance by rescaling each component of the gradient using statistics tracking the typical size of the updates to that weight. Then the entire update is rescaled using a global `learning_rate` $\\alpha$\n"
   ]
  },
  {
   "cell_type": "markdown",
   "metadata": {
    "id": "hbFePWfApaMU"
   },
   "source": [
    "### Q 3.5\n",
    "\n",
    "A popular approach to adaptive gradient rescaling was introduced by the `Adam` algorithm.\n",
    "* See [Kingma et al, 2014](https://arxiv.org/abs/1412.6980) for references.\n",
    "\n",
    "This algorithm implements the following procedure before applying each update:\n",
    "* Increase an update counter $k \\gets k+1$ (starting at k=0 before any updates),\n",
    "* Update the first moment of each gradient component $\\mu \\gets (1 - \\eta) g + \\eta \\mu$ where $g$ is the latest stochastic gradient.\n",
    "* Update the second moment of each gradient component $\\nu_i = (1 - \\eta) g_i ^ 2 + \\eta \\nu_i $ where $g$ is the latest gradient update.\n",
    "* Use the following update to update the weights:\n",
    "$$\\Delta w = \\alpha \\frac{\\mu / (1 - \\beta_1 ^ {k})}{\\epsilon + \\sqrt{\\nu / (1 - \\beta_1 ^ {k})}}$$\n",
    "* $\\alpha$ is a global `learning rate`\n",
    "* $\\beta_1$ and $\\beta_2$ define a soft horizon for the per-weight statistics.\n",
    "* $\\epsilon$ makes the rescaling more robust to numerical issues.\n",
    "\n",
    "In the next cell define a pair of functions (`opt_init`, and `opt_update`), where:\n",
    "\n",
    "The `opt_init` function has signature `state = opt_init(params)`.\n",
    "* Takes the network parameters as inputs\n",
    "* Initialises an `optimiser state` holding the per weight statistics.\n",
    "\n",
    "The `opt_update` function has signature `updates, state = opt_update(grads, state)`.\n",
    "* Takes a `gradient` and an `optimisers state`,\n",
    "* and returns the transformed gradient and the updated `optimiser state`.\n",
    "\n",
    "Set the algorrithm's hyper-parameters to:\n",
    "* $\\beta_1=.9$ and $\\beta_2=.999$, $\\epsilon=1e-8$."
   ]
  },
  {
   "cell_type": "code",
   "execution_count": 1,
   "metadata": {
    "id": "017XRA_BpbZx"
   },
   "outputs": [],
   "source": [
    "# Define the necessary parameters\n",
    "# The learning rate should be between 0.01 and 0.001.\n",
    "learning_rate = 0.0019 # I think that 0.0019 ~ 0.002 is the best value because the graph can converge to 1.0 properly\n",
    "beta_1 = 0.9\n",
    "beta_2 = 0.999\n",
    "epsilon = 1e-8\n",
    "\n",
    "def opt_init(params):\n",
    "    # Initialise the first moment of each gradient component\n",
    "    mu = jax.tree_multimap(jnp.zeros_like, params)\n",
    "    # Initialise the second moment of each gradient component\n",
    "    v = jax.tree_multimap(jnp.zeros_like, params)\n",
    "    # Starting at k=0 before any updates\n",
    "    k = 0\n",
    "    return mu, v, k\n",
    "\n",
    "def opt_update(grads, state):\n",
    "    # Define moment, second moment, counter to state\n",
    "    mu, v, k = state\n",
    "    # Increase an update counter k <- K+1\n",
    "    k += 1\n",
    "    # Update the first moment of each gradient component\n",
    "    mu = jax.tree_multimap(lambda x, y: (1 - beta_1) * x + beta_1 * y, grads, mu)\n",
    "    # Update the second moment of each gradient component\n",
    "    v = jax.tree_multimap(lambda x, y: (1 - beta_2) * jnp.square(x) + beta_2 * y, grads, v)\n",
    "    \n",
    "    # Bias corrected\n",
    "    mu_hat = jax.tree_multimap(lambda x: x / (1 - beta_1**k), mu)\n",
    "    v_hat = jax.tree_multimap(lambda x: x / (1 - beta_2**k), v)\n",
    "    \n",
    "    # Update the weights\n",
    "    delta_weight = jax.tree_multimap(lambda x, y: learning_rate * x / (epsilon + jnp.sqrt(y)), mu, v)\n",
    "    \n",
    "    # Update the state\n",
    "    state = mu, v, k\n",
    "    return delta_weight, state"
   ]
  },
  {
   "cell_type": "markdown",
   "metadata": {
    "id": "DczWvZfNSnTj"
   },
   "source": [
    "### Run experiments\n",
    "\n",
    "Run the cell below to show the performance of the resulting agent.\n",
    "\n",
    "You may also use this section for debugging your implementations.\n",
    "\n",
    "Note however, that most functions are `jitted` for performance,\n",
    "* either using the `@jax.jit` decorator in the function definition\n",
    "* or calling explicitely `fn = jax.jit(fn)`\n",
    "\n",
    "When jitting, the code is compiled on the first time the function is executed\n",
    "* and execution is much faster on subsequent calls.\n",
    "* a notable side effect is that print statements in a jitted function will only execute on the first execution of the function.\n",
    "* to drop into a debugger or print on each function execution you will have to disable the `@jax.jit` annotations and jax.jit calls."
   ]
  },
  {
   "cell_type": "code",
   "execution_count": 72,
   "metadata": {
    "id": "Fz837XTkLxE8"
   },
   "outputs": [
    {
     "name": "stderr",
     "output_type": "stream",
     "text": [
      "WARNING:absl:No GPU/TPU found, falling back to CPU. (Set TF_CPP_MIN_LOG_LEVEL=0 and rerun for more info.)\n"
     ]
    },
    {
     "name": "stdout",
     "output_type": "stream",
     "text": [
      "Training agent for 1500 episodes...\n"
     ]
    },
    {
     "data": {
      "image/png": "[encoded data removed]",
      "text/plain": [
       "<Figure size 504x360 with 1 Axes>"
      ]
     },
     "metadata": {
      "needs_background": "light"
     },
     "output_type": "display_data"
    }
   ],
   "source": [
    "# DO NOT CHANGE THIS CELL\n",
    "\n",
    "# Experiment configs.\n",
    "train_episodes = 1500\n",
    "discount_factor = .99\n",
    "\n",
    "# Create environment.\n",
    "env = catch.Catch(seed=42)\n",
    "\n",
    "# Build and initialize network.\n",
    "rng = jax.random.PRNGKey(44)\n",
    "rng, init_rng = jax.random.split(rng)\n",
    "sample_input = env.observation_spec().generate_value()\n",
    "net_params = init_net(init_rng, sample_input)\n",
    "\n",
    "# Initialize optimizer state.\n",
    "opt_state = opt_init(net_params)\n",
    "\n",
    "# Apply updates\n",
    "def apply_updates(params, updates):\n",
    "  return jax.tree_multimap(lambda p, u: p + u, params, updates)\n",
    "\n",
    "# Jit.\n",
    "opt_update = jax.jit(opt_update)\n",
    "apply_updates = jax.jit(apply_updates)\n",
    "\n",
    "print(f\"Training agent for {train_episodes} episodes...\")\n",
    "all_episode_returns = []\n",
    "\n",
    "for _ in range(train_episodes):\n",
    "  episode_return = 0.\n",
    "  timestep = env.reset()\n",
    "  obs_tm1 = timestep.observation\n",
    "\n",
    "  # Sample initial action.\n",
    "  rng, policy_rng = jax.random.split(rng)\n",
    "  a_tm1 = softmax_policy(net_params, policy_rng, obs_tm1)\n",
    "\n",
    "  while not timestep.last():\n",
    "    # Step environment.\n",
    "    new_timestep = env.step(int(a_tm1))\n",
    "\n",
    "    # Sample action from agent policy.\n",
    "    rng, policy_rng = jax.random.split(rng)\n",
    "    a_t = softmax_policy(net_params, policy_rng, new_timestep.observation)\n",
    "\n",
    "    # Update params.\n",
    "    r_t = new_timestep.reward\n",
    "    discount_t = discount_factor * new_timestep.discount\n",
    "    rng, grad_rng = jax.random.split(rng)\n",
    "    dJ_dtheta = compute_gradient(\n",
    "        net_params, grad_rng, obs_tm1, a_tm1, r_t, discount_t, \n",
    "        new_timestep.observation)\n",
    "    updates, opt_state = opt_update(dJ_dtheta, opt_state)\n",
    "    net_params = apply_updates(net_params, updates)\n",
    "\n",
    "    # Within episode book-keeping.\n",
    "    episode_return += new_timestep.reward\n",
    "    timestep = new_timestep\n",
    "    obs_tm1 = new_timestep.observation\n",
    "    a_tm1 = a_t\n",
    "\n",
    "  # Experiment results tracking.\n",
    "  all_episode_returns.append(episode_return)\n",
    "\n",
    "# Plot learning curve.\n",
    "plot_learning_curve(all_episode_returns)"
   ]
  },
  {
   "cell_type": "code",
   "execution_count": 11,
   "metadata": {},
   "outputs": [
    {
     "data": {
      "text/plain": [
       "1.0"
      ]
     },
     "execution_count": 11,
     "metadata": {},
     "output_type": "execute_result"
    }
   ],
   "source": [
    "# Part 2A average return in the last 100 episode\n",
    "np.mean(all_episode_returns[-100:]) "
   ]
  },
  {
   "cell_type": "code",
   "execution_count": 12,
   "metadata": {},
   "outputs": [
    {
     "data": {
      "text/plain": [
       "0.44133333333333336"
      ]
     },
     "execution_count": 12,
     "metadata": {},
     "output_type": "execute_result"
    }
   ],
   "source": [
    "# Part 2A average return in the whole episode\n",
    "np.mean(all_episode_returns[-1500:]) "
   ]
  },
  {
   "cell_type": "markdown",
   "metadata": {
    "id": "9dowFJ_l-32A"
   },
   "source": [
    "## 2B) An alternative update\n",
    "\n",
    "You are going to implement a different kind of agent.\n",
    "\n",
    "Like an actor-critic, it learns online from a single stream of experience, updating the parametes after each transition in the environment."
   ]
  },
  {
   "cell_type": "markdown",
   "metadata": {
    "id": "aQD0Qw8-_QJy"
   },
   "source": [
    "### Neural networks\n",
    "\n",
    "\n",
    "The agent will reuse the same neural network we defined for the actor-critic:\n",
    "* the scalar output will be trained via TD to estimate state values\n",
    "* the vector preferences `p` will be updated according to a different rule."
   ]
  },
  {
   "cell_type": "markdown",
   "metadata": {
    "id": "I6j0AIF8GhdR"
   },
   "source": [
    "### Choosing actions\n",
    "\n",
    "As in actor-critics, the (stochastic) mapping from `observations` to `actions` depends on the vector of preferences `p` from the network."
   ]
  },
  {
   "cell_type": "markdown",
   "metadata": {
    "id": "jE00LhDL_nbC"
   },
   "source": [
    "### Q 3.6\n",
    "\n",
    "The new agent's policy will have the signature `action = epsilon_greedy_policy(net_params, key, obs)`,\n",
    "* Take as inputs the current network parameters `net_params`, a JAX random `key` and the current `observation`\n",
    "* Return with probability `0.9` the greedy `action` with respect to the preferences `p`, ties must be broken at random.\n",
    "* Return an action uniformly at random with probability `0.1`"
   ]
  },
  {
   "cell_type": "code",
   "execution_count": 74,
   "metadata": {
    "id": "8IwTDROL_Lx5"
   },
   "outputs": [],
   "source": [
    "@jax.jit\n",
    "def epsilon_greedy_policy(net_params, key, obs):\n",
    "  \"\"\"Sample action from an epsilon-greedy policy.\"\"\"\n",
    "  # Compute the scalar value and vector perferences using an observation\n",
    "  preferences, value = apply_net(net_params, key, obs)\n",
    "  \n",
    "  # Return an action uniformly at random with probability 0.1\n",
    "  if np.random.rand() <= 0.1:\n",
    "    return jax.random.uniform(key)\n",
    "  # Return with probability 0.9 the greedy action w.r.t the preferences\n",
    "  else:\n",
    "    return jnp.argmax(preferences)"
   ]
  },
  {
   "cell_type": "markdown",
   "metadata": {
    "id": "l1zQiRX5BfeA"
   },
   "source": [
    "### Q 3.7 \n",
    "\n",
    "The preferences `p` will be update according to the following gradient-based update:\n",
    "\n",
    "* ($R_{t+1} + \\gamma v(S_{t+1}) - p(S_{t}, A_t)) \\nabla p(S_t, A_t))$ \n",
    "* where `v` is the state value trained by TD as in the actor critic.\n",
    "\n",
    "You musy implement this in the function `preference_gradient`, with the same signature as `policy_gradient`"
   ]
  },
  {
   "cell_type": "code",
   "execution_count": 75,
   "metadata": {
    "id": "6fQhAWXqLNt-"
   },
   "outputs": [],
   "source": [
    "def preference_gradient(net_params, key, obs_tm1, a_tm1, r_t, discount_t, obs_t):\n",
    "  # Compute the preferences gradient based update  \n",
    "  p_grads = jax.grad(preferences)(net_params, key, obs_tm1, a_tm1, r_t, discount_t, obs_t)\n",
    "  return p_grads\n",
    "\n",
    "def preferences(net_params, key, obs_tm1, a_tm1, r_t, discount_t, obs_t):\n",
    "  # Compute the scalar value and vector perferences using an observation\n",
    "  preferences, value = apply_net(net_params, key, obs_tm1)\n",
    "  # Compute the scalar value and vector perferences using the following observation\n",
    "  next_p, next_v = apply_net(net_params, key, obs_t)\n",
    "  # Compute the preference for the above equation\n",
    "  computed_p = jax.lax.stop_gradient(r_t + discount_t * next_v - preferences[a_tm1]) * preferences[a_tm1]\n",
    "  return computed_p"
   ]
  },
  {
   "cell_type": "markdown",
   "metadata": {
    "id": "hz4RFKnVF8E8"
   },
   "source": [
    "### Updating shared parameters\n",
    "\n",
    "Just like in the actor critic the overall update to the parameters is a combination of two quantities:\n",
    "* the new update we defined for the vector of preferences\n",
    "* the same TD update to the scalar output that we used in the actor critic"
   ]
  },
  {
   "cell_type": "code",
   "execution_count": 76,
   "metadata": {
    "id": "QnghCzKhF-gI"
   },
   "outputs": [],
   "source": [
    "@jax.jit\n",
    "def compute_gradient(net_params, key, obs_tm1, a_tm1, r_t, discount_t, obs_t):\n",
    "  k1, k2 = jax.random.split(key, 2)\n",
    "  pgrads = preference_gradient(net_params, k1, obs_tm1, a_tm1, r_t, discount_t, obs_t)\n",
    "  vgrads = neg_value_loss_gradient(net_params, k2, obs_tm1, a_tm1, r_t, discount_t, obs_t)\n",
    "  return jax.tree_multimap(lambda pg, vg: pg + vg, pgrads, vgrads)"
   ]
  },
  {
   "cell_type": "markdown",
   "metadata": {
    "id": "44QBKEF4HFK8"
   },
   "source": [
    "### Optimisation\n",
    "\n",
    "The gradient updates are rescaled using the same optimiser used for the actor-critic."
   ]
  },
  {
   "cell_type": "markdown",
   "metadata": {
    "id": "dbdHQo23FJit"
   },
   "source": [
    "### Run experiments\n",
    "\n",
    "Run the cell below to show the performance of the new agent."
   ]
  },
  {
   "cell_type": "code",
   "execution_count": 16,
   "metadata": {
    "id": "ept5NG1oFLnu"
   },
   "outputs": [
    {
     "name": "stdout",
     "output_type": "stream",
     "text": [
      "Training agent for 1500 episodes...\n"
     ]
    },
    {
     "data": {
      "image/png": "[encoded data removed]",
      "text/plain": [
       "<Figure size 504x360 with 1 Axes>"
      ]
     },
     "metadata": {
      "needs_background": "light"
     },
     "output_type": "display_data"
    }
   ],
   "source": [
    "# DO NOT CHANGE THIS CELL\n",
    "\n",
    "# Experiment configs.\n",
    "train_episodes = 1500\n",
    "discount_factor = .99\n",
    "\n",
    "# Create environment.\n",
    "env = catch.Catch(seed=42)\n",
    "\n",
    "# Build and initialize network.\n",
    "rng = jax.random.PRNGKey(44)\n",
    "rng, init_rng = jax.random.split(rng)\n",
    "sample_input = env.observation_spec().generate_value()\n",
    "net_params = init_net(init_rng, sample_input)\n",
    "\n",
    "# Initialize optimizer state.\n",
    "opt_state = opt_init(net_params)\n",
    "\n",
    "# Apply updates\n",
    "def apply_updates(params, updates):\n",
    "  return jax.tree_multimap(lambda p, u: p + u, params, updates)\n",
    "\n",
    "# Jit.\n",
    "opt_update = jax.jit(opt_update)\n",
    "apply_updates = jax.jit(apply_updates)\n",
    "\n",
    "print(f\"Training agent for {train_episodes} episodes...\")\n",
    "all_episode_returns = []\n",
    "\n",
    "for _ in range(train_episodes):\n",
    "  episode_return = 0.\n",
    "  timestep = env.reset()\n",
    "  obs_tm1 = timestep.observation\n",
    "\n",
    "  # Sample initial action.\n",
    "  rng, policy_rng = jax.random.split(rng)\n",
    "  a_tm1 = epsilon_greedy_policy(net_params, policy_rng, obs_tm1)\n",
    "\n",
    "  while not timestep.last():\n",
    "    # Step environment.\n",
    "    new_timestep = env.step(int(a_tm1))\n",
    "\n",
    "    # Sample action from agent policy.\n",
    "    rng, policy_rng = jax.random.split(rng)\n",
    "    a_t = epsilon_greedy_policy(net_params, policy_rng, new_timestep.observation)\n",
    "\n",
    "    # Update params.\n",
    "    r_t = new_timestep.reward\n",
    "    discount_t = discount_factor * new_timestep.discount\n",
    "    rng, grad_rng = jax.random.split(rng)\n",
    "    dJ_dtheta = compute_gradient(\n",
    "        net_params, grad_rng, obs_tm1, a_tm1, r_t, discount_t, \n",
    "        new_timestep.observation)\n",
    "    updates, opt_state = opt_update(dJ_dtheta, opt_state)\n",
    "    net_params = apply_updates(net_params, updates)\n",
    "\n",
    "    # Within episode book-keeping.\n",
    "    episode_return += new_timestep.reward\n",
    "    timestep = new_timestep\n",
    "    obs_tm1 = new_timestep.observation\n",
    "    a_tm1 = a_t\n",
    "\n",
    "  # Experiment results tracking.\n",
    "  all_episode_returns.append(episode_return)\n",
    "\n",
    "# Plot learning curve.\n",
    "plot_learning_curve(all_episode_returns)"
   ]
  },
  {
   "cell_type": "code",
   "execution_count": 17,
   "metadata": {},
   "outputs": [
    {
     "data": {
      "text/plain": [
       "0.7"
      ]
     },
     "execution_count": 17,
     "metadata": {},
     "output_type": "execute_result"
    }
   ],
   "source": [
    "# Part 2B average return in the last 100 episode\n",
    "np.mean(all_episode_returns[-100:]) "
   ]
  },
  {
   "cell_type": "code",
   "execution_count": 18,
   "metadata": {},
   "outputs": [
    {
     "data": {
      "text/plain": [
       "0.4866666666666667"
      ]
     },
     "execution_count": 18,
     "metadata": {},
     "output_type": "execute_result"
    }
   ],
   "source": [
    "# Part 2B average return in the whole episode\n",
    "np.mean(all_episode_returns[-1500:]) "
   ]
  },
  {
   "cell_type": "markdown",
   "metadata": {},
   "source": [
    "### Q 3.8 \n",
    "\n",
    "[1pts]: What is the best asymptotic average return that can be achieved by the actor-critic agent described in `Part 2A)`?\n",
    "\n",
    "> In part 2A, the plot looks fully convergence to 1.0 during the 1500 number of episodes, so the best asymptotic average return is 1.0. The average return from the whole episodes (1500 episodes) is computed in the bottom of the figure 2A, and the average return is 0.4413.\n",
    "\n",
    "[1pts] What is the best asymptotic average return that can be achieved by the second agent described in `Part 2B)`?\n",
    "\n",
    "> In part 2B, the plot looks not fully convergence to 1.0, but it can be if the number of episodes is more than 1500 (e.g. 2000). The best asymptotic average return from the above figure is approximately 0.9 during the 1500 number of episodies. The average return from the last 100 episodes and whole episodes (1500 episodes) are computed in the above of this cell, and the average returns are 0.7 and 0.487, respectively.\n",
    "\n",
    "[2pts] What quantity do the preferences `p` estimate in the second agent described in `Part 2B)`?\n",
    "\n",
    "> The preferences `p` would estimate the value determined by given policy, state, and action."
   ]
  },
  {
   "cell_type": "code",
   "execution_count": null,
   "metadata": {},
   "outputs": [],
   "source": []
  }
 ],
 "metadata": {
  "colab": {
   "collapsed_sections": [
    "nVBcO5mAV9Ow",
    "sC3M-IfEq2bI",
    "7TYEJzjdBD8s",
    "iIRC73HLq6VH",
    "KV03Q3MpveUM",
    "r_pTfi5dSFX5",
    "M6kEki4XHbPy",
    "9dowFJ_l-32A",
    "mh918hc0_iQ9"
   ],
   "name": "RL_assignment3.ipynb",
   "provenance": [
    {
     "file_id": "/piper/depot/google3/learning/deepmind/research/ucl/assignments_2021/RL_assignment_3_solution.ipynb?workspaceId=mtthss:ucluclucl::citc",
     "timestamp": 1618502477520
    },
    {
     "file_id": "1q0yqRznin1Zv5-MduEZbZZU8EF-qfzxJ",
     "timestamp": 1618501430836
    }
   ],
   "toc_visible": true
  },
  "kernelspec": {
   "display_name": "Python 3",
   "language": "python",
   "name": "python3"
  },
  "language_info": {
   "codemirror_mode": {
    "name": "ipython",
    "version": 3
   },
   "file_extension": ".py",
   "mimetype": "text/x-python",
   "name": "python",
   "nbconvert_exporter": "python",
   "pygments_lexer": "ipython3",
   "version": "3.8.8"
  }
 },
 "nbformat": 4,
 "nbformat_minor": 1
}
