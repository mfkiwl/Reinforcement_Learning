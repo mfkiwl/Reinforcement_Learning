{
 "cells": [
  {
   "cell_type": "markdown",
   "id": "bcaefc60",
   "metadata": {},
   "source": [
    "# REINFORCEMENT LEARNING\n",
    "\n",
    "### Author: Hyungjoo Kim\n",
    "\n",
    "##### All data was provided by University College London, Department of Computer Science, Reinforcement Learning Module\n",
    "\n",
    "##### Supervisor: Prof. Hado Van Hasselt, Matteo Hessel, and Diana Borsa"
   ]
  },
  {
   "cell_type": "markdown",
   "id": "15542ae3",
   "metadata": {},
   "source": [
    "# Setup"
   ]
  },
  {
   "cell_type": "markdown",
   "id": "c720dcd2",
   "metadata": {},
   "source": [
    "### Import Useful Libraries"
   ]
  },
  {
   "cell_type": "code",
   "execution_count": 4,
   "id": "06021cf6",
   "metadata": {},
   "outputs": [],
   "source": [
    "import functools\n",
    "import matplotlib.pyplot as plt\n",
    "import numpy as np\n",
    "from collections import namedtuple\n",
    "\n",
    "np.set_printoptions(precision=3, suppress=1)\n",
    "plt.style.use('seaborn-notebook')"
   ]
  },
  {
   "cell_type": "markdown",
   "id": "5ef99c37",
   "metadata": {},
   "source": [
    "## Gridworlds"
   ]
  },
  {
   "cell_type": "code",
   "execution_count": 5,
   "id": "10da9f82",
   "metadata": {},
   "outputs": [],
   "source": [
    "#@title Implementation\n",
    "class Grid(object):\n",
    "\n",
    "  def __init__(self, discount=0.9):\n",
    "    # -1: wall\n",
    "    # 0: empty, episode continues\n",
    "    # other: number indicates reward, episode will terminate\n",
    "    self._layout = np.array([\n",
    "      [-1, -1, -1, -1, -1, -1, -1, -1, -1, -1],\n",
    "      [-1,  0,  0,  0,  0,  0,  0,  0,  0, -1],\n",
    "      [-1,  0,  0,  0, -1, -1,  0,  0, 10, -1],\n",
    "      [-1,  0,  0,  0, -1, -1,  0,  0,  0, -1],\n",
    "      [-1,  0,  0,  0, -1, -1,  0,  0,  0, -1],\n",
    "      [-1,  0,  0,  0,  0,  0,  0,  0,  0, -1],\n",
    "      [-1,  0,  0,  0,  0,  0,  0,  0,  0, -1],\n",
    "      [-1,  0,  0,  0,  0,  0,  0,  0,  0, -1],\n",
    "      [-1, -1, -1, -1, -1, -1, -1, -1, -1, -1]\n",
    "    ])\n",
    "    self._start_state = (2, 2)\n",
    "    self._goal_state = (8, 2)\n",
    "    self._state = self._start_state\n",
    "    self._number_of_states = np.prod(np.shape(self._layout))\n",
    "    self._discount = discount\n",
    "\n",
    "  @property\n",
    "  def number_of_states(self):\n",
    "      return self._number_of_states\n",
    "    \n",
    "  def plot_grid(self):\n",
    "    plt.figure(figsize=(3, 3))\n",
    "    plt.imshow(self._layout > -1, interpolation=\"nearest\", cmap=\"YlOrRd_r\")     \n",
    "    ax = plt.gca()\n",
    "    ax.grid(0)\n",
    "    plt.xticks([])\n",
    "    plt.yticks([])\n",
    "    plt.title(\"The grid\")\n",
    "    plt.text(\n",
    "        self._start_state[0], self._start_state[1], \n",
    "        r\"$\\mathbf{S}$\", ha='center', va='center')\n",
    "    plt.text(\n",
    "        self._goal_state[0], self._goal_state[1], \n",
    "        r\"$\\mathbf{G}$\", ha='center', va='center')\n",
    "    h, w = self._layout.shape\n",
    "    for y in range(h-3):\n",
    "      plt.plot([+0.5, w-1.5], [y+1.5, y+1.5], '-k', lw=2, alpha=0.5)\n",
    "    for x in range(w-3):\n",
    "      plt.plot([x+1.5, x+1.5], [+0.5, h-1.5], '-k', lw=2, alpha=0.5)\n",
    "\n",
    "  \n",
    "  def get_obs(self):\n",
    "    y, x = self._state\n",
    "    return y*self._layout.shape[1] + x\n",
    "  \n",
    "  def int_to_state(self, int_obs):\n",
    "    x = int_obs % self._layout.shape[1]\n",
    "    y = int_obs // self._layout.shape[1]\n",
    "    return y, x\n",
    "\n",
    "  def step(self, action):\n",
    "    y, x = self._state\n",
    "\n",
    "    if action == 0:  # up\n",
    "      new_state = (y - 1, x)\n",
    "    elif action == 1:  # right\n",
    "      new_state = (y, x + 1)\n",
    "    elif action == 2:  # down\n",
    "      new_state = (y + 1, x)\n",
    "    elif action == 3:  # left\n",
    "      new_state = (y, x - 1)\n",
    "    else:\n",
    "      raise ValueError(\"Invalid action: {} is not 0, 1, 2, or 3.\".format(action))\n",
    "\n",
    "    new_y, new_x = new_state\n",
    "    if self._layout[new_y, new_x] == -1:  # wall\n",
    "      reward = -5.\n",
    "      discount = self._discount\n",
    "      new_state = (y, x)\n",
    "    elif self._layout[new_y, new_x] == 0:  # empty cell\n",
    "      reward = 0.\n",
    "      discount = self._discount\n",
    "    else:  # a goal\n",
    "      reward = self._layout[new_y, new_x]\n",
    "      discount = 0.\n",
    "      new_state = self._start_state\n",
    "    \n",
    "    self._state = new_state\n",
    "    return reward, discount, self.get_obs()\n",
    "  \n",
    "class AltGrid(Grid):\n",
    "  \n",
    "    def __init__(self, discount=0.9):\n",
    "      # -1: wall\n",
    "      # 0: empty, episode continues\n",
    "      # other: number indicates reward, episode will terminate\n",
    "      self._layout = np.array([\n",
    "        [-1, -1, -1, -1, -1, -1, -1, -1, -1, -1],\n",
    "        [-1,  0,  0,  0,  0,  0,  0,  0,  0, -1],\n",
    "        [-1,  0,  0,  0, -1, -1,  0,  0,  0, -1],\n",
    "        [-1,  0,  0,  0, -1, -1,  0,  0,  0, -1],\n",
    "        [-1,  0,  0,  0, -1, -1,  0,  0,  0, -1],\n",
    "        [-1,  0,  0,  0,  0,  0,  0,  0,  0, -1],\n",
    "        [-1,  0,  0,  0,  0,  0,  0,  0,  0, -1],\n",
    "        [-1,  0, 10,  0,  0,  0,  0,  0,  0, -1],\n",
    "        [-1, -1, -1, -1, -1, -1, -1, -1, -1, -1]\n",
    "      ])\n",
    "      self._start_state = (2, 2)\n",
    "      self._goal_state = (2, 7)\n",
    "      self._state = self._start_state\n",
    "      self._number_of_states = np.prod(np.shape(self._layout))\n",
    "      self._discount = discount\n",
    "\n",
    "class FeatureGrid(Grid):\n",
    "  \n",
    "  def get_obs(self):\n",
    "    return self.state_to_features(self._state)\n",
    "  \n",
    "  def state_to_features(self, state):\n",
    "    y, x = state\n",
    "    x /= float(self._layout.shape[1] - 1)\n",
    "    y /= float(self._layout.shape[0] - 1)\n",
    "    markers = np.arange(0.1, 1.0, 0.1)\n",
    "    features = np.array([np.exp(-40*((x - m)**2+(y - n)**2))\n",
    "                         for m in markers\n",
    "                         for n in markers] + [1.])\n",
    "    return features / np.sum(features**2)\n",
    "  \n",
    "  def int_to_features(self, int_state):\n",
    "    return self.state_to_features(self.int_to_state(int_state))\n",
    "  \n",
    "  @property\n",
    "  def number_of_features(self):\n",
    "      return len(self.get_obs())"
   ]
  },
  {
   "cell_type": "code",
   "execution_count": 6,
   "id": "672ce4e9",
   "metadata": {},
   "outputs": [
    {
     "name": "stdout",
     "output_type": "stream",
     "text": [
      "A grid world\n"
     ]
    },
    {
     "data": {
      "image/png": "[encoded data removed]",
      "text/plain": [
       "<Figure size 216x216 with 1 Axes>"
      ]
     },
     "metadata": {},
     "output_type": "display_data"
    },
    {
     "name": "stdout",
     "output_type": "stream",
     "text": [
      "\n",
      "An alternative grid world\n"
     ]
    },
    {
     "data": {
      "image/png": "[encoded data removed]",
      "text/plain": [
       "<Figure size 216x216 with 1 Axes>"
      ]
     },
     "metadata": {},
     "output_type": "display_data"
    },
    {
     "name": "stdout",
     "output_type": "stream",
     "text": [
      "\n",
      "Features (visualised as 9x9 heatmaps) for different locations in the grid\n",
      "(Note: includes unreachable states that coincide with walls in this visualisation.)\n"
     ]
    },
    {
     "data": {
      "image/png": "[encoded data removed]",
      "text/plain": [
       "<Figure size 576x396 with 90 Axes>"
      ]
     },
     "metadata": {},
     "output_type": "display_data"
    }
   ],
   "source": [
    "#@title Show gridworlds\n",
    "\n",
    "# Plot tabular environments\n",
    "grid = Grid()\n",
    "alt_grid = AltGrid()\n",
    "print(\"A grid world\")\n",
    "grid.plot_grid()\n",
    "plt.show()\n",
    "print(\"\\nAn alternative grid world\")\n",
    "alt_grid.plot_grid()\n",
    "plt.show()\n",
    "\n",
    "# Plot features of each state for non tabular version of the environment.\n",
    "print(\n",
    "    \"\\nFeatures (visualised as 9x9 heatmaps) for different locations in the grid\"\n",
    "    \"\\n(Note: includes unreachable states that coincide with walls in this visualisation.)\"\n",
    ")\n",
    "feat_grid = FeatureGrid()\n",
    "shape = feat_grid._layout.shape\n",
    "f, axes = plt.subplots(shape[0], shape[1])\n",
    "for state_idx, ax in enumerate(axes.flatten()):\n",
    "  ax.imshow(np.reshape((feat_grid.int_to_features(state_idx)[:-1]),(9,9)),\n",
    "            interpolation='nearest',\n",
    "            cmap='plasma')\n",
    "  ax.set_xticks([])\n",
    "  ax.set_yticks([])\n",
    "plt.show()"
   ]
  },
  {
   "cell_type": "markdown",
   "id": "89a05786",
   "metadata": {},
   "source": [
    "### Helper functions\n",
    "(You should not have to change, or even look at, these.  Do run the cell to make sure the functions are loaded though.)"
   ]
  },
  {
   "cell_type": "code",
   "execution_count": 26,
   "id": "4cd88932",
   "metadata": {},
   "outputs": [],
   "source": [
    "#@title helper functions (run, but don't modify this cell)\n",
    "\n",
    "def run_experiment(env, agent, number_of_steps):\n",
    "    mean_reward = 0.\n",
    "    try:\n",
    "      action = agent.initial_action()\n",
    "    except AttributeError:\n",
    "      action = 0\n",
    "    for i in range(number_of_steps):\n",
    "      reward, discount, next_state = env.step(action)\n",
    "      action = agent.step(reward, discount, next_state)\n",
    "      mean_reward += (reward - mean_reward)/(i + 1.)\n",
    "\n",
    "    return mean_reward\n",
    "  \n",
    "map_from_action_to_subplot = lambda a: (2, 6, 8, 4)[a]\n",
    "map_from_action_to_name = lambda a: (\"up\", \"right\", \"down\", \"left\")[a]\n",
    "\n",
    "def plot_rewards(xs, rewards, color):\n",
    "  mean = np.mean(rewards, axis=0)\n",
    "  p90 = np.percentile(rewards, 90, axis=0)\n",
    "  p10 = np.percentile(rewards, 10, axis=0)\n",
    "  plt.plot(xs, mean, color=color, alpha=0.6)\n",
    "  plt.fill_between(xs, p90, p10, color=color, alpha=0.3)\n",
    "\n",
    "def plot_values(values, colormap='pink', vmin=-1, vmax=10):\n",
    "  plt.imshow(values, interpolation=\"nearest\", cmap=colormap, vmin=vmin, vmax=vmax)\n",
    "  plt.yticks([])\n",
    "  plt.xticks([])\n",
    "  plt.colorbar(ticks=[vmin, vmax])\n",
    "\n",
    "def plot_state_value(action_values):\n",
    "  q = action_values\n",
    "  fig = plt.figure(figsize=(4, 4))\n",
    "  vmin = np.min(action_values)\n",
    "  vmax = np.max(action_values)\n",
    "  v = 0.9 * np.max(q, axis=-1) + 0.1 * np.mean(q, axis=-1)\n",
    "  plot_values(v, colormap='summer', vmin=vmin, vmax=vmax)\n",
    "  plt.title(\"$v(s)$\")\n",
    "\n",
    "def plot_action_values(action_values):\n",
    "  q = action_values\n",
    "  fig = plt.figure(figsize=(8, 8))\n",
    "  fig.subplots_adjust(wspace=0.3, hspace=0.3)\n",
    "  vmin = np.min(action_values)\n",
    "  vmax = np.max(action_values)\n",
    "  dif = vmax - vmin\n",
    "  for a in [0, 1, 2, 3]:\n",
    "    plt.subplot(3, 3, map_from_action_to_subplot(a))\n",
    "    \n",
    "    plot_values(q[..., a], vmin=vmin - 0.05*dif, vmax=vmax + 0.05*dif)\n",
    "    action_name = map_from_action_to_name(a)\n",
    "    plt.title(r\"$q(s, \\mathrm{\" + action_name + r\"})$\")\n",
    "    \n",
    "  plt.subplot(3, 3, 5)\n",
    "  v = 0.9 * np.max(q, axis=-1) + 0.1 * np.mean(q, axis=-1)\n",
    "  plot_values(v, colormap='summer', vmin=vmin, vmax=vmax)\n",
    "  plt.title(\"$v(s)$\")\n",
    "\n",
    "def parameter_study(parameter_values, parameter_name,\n",
    "  agent_constructor, env_constructor, color, repetitions=10, number_of_steps=int(1e4)):\n",
    "  mean_rewards = np.zeros((repetitions, len(parameter_values)))\n",
    "  greedy_rewards = np.zeros((repetitions, len(parameter_values)))\n",
    "  for rep in range(repetitions):\n",
    "    for i, p in enumerate(parameter_values):\n",
    "      env = env_constructor()\n",
    "      agent = agent_constructor()\n",
    "      if 'eps' in parameter_name:\n",
    "        agent.set_epsilon(p)\n",
    "      elif 'alpha' in parameter_name:\n",
    "        agent._step_size = p\n",
    "      else:\n",
    "        raise NameError(\"Unknown parameter_name: {}\".format(parameter_name))\n",
    "      mean_rewards[rep, i] = run_experiment(grid, agent, number_of_steps)\n",
    "      agent.set_epsilon(0.)\n",
    "      agent._step_size = 0.\n",
    "      greedy_rewards[rep, i] = run_experiment(grid, agent, number_of_steps//10)\n",
    "      del env\n",
    "      del agent\n",
    "\n",
    "  plt.subplot(1, 2, 1)\n",
    "  plot_rewards(parameter_values, mean_rewards, color)\n",
    "  plt.yticks=([0, 1], [0, 1])\n",
    "  plt.ylabel(\"Average reward over first {} steps\".format(number_of_steps), size=12)\n",
    "  plt.xlabel(parameter_name, size=12)\n",
    "\n",
    "  plt.subplot(1, 2, 2)\n",
    "  plot_rewards(parameter_values, greedy_rewards, color)\n",
    "  plt.yticks=([0, 1], [0, 1])\n",
    "  plt.ylabel(\"Final rewards, with greedy policy\".format(number_of_steps), size=12)\n",
    "  plt.xlabel(parameter_name, size=12)\n",
    "  \n",
    "def random_policy(q):\n",
    "  return np.random.randint(4)\n",
    "\n",
    "def epsilon_greedy(q_values, epsilon):\n",
    "  if epsilon < np.random.random():\n",
    "    return np.argmax(q_values)\n",
    "  else:\n",
    "    return np.random.randint(np.array(q_values).shape[-1])\n",
    "\n",
    "def plot_greedy_policy(grid, q):\n",
    "  action_names = [r\"$\\uparrow$\",r\"$\\rightarrow$\", r\"$\\downarrow$\", r\"$\\leftarrow$\"]\n",
    "  greedy_actions = np.argmax(q, axis=2)\n",
    "  grid.plot_grid()\n",
    "  for i in range(9):\n",
    "    for j in range(10):\n",
    "      action_name = action_names[greedy_actions[i,j]]\n",
    "      plt.text(j, i, action_name, ha='center', va='center')\n",
    "\n",
    "def plot_greedy_policy_v2(grid, pi):\n",
    "  action_names = [r\"$\\uparrow$\",r\"$\\rightarrow$\", r\"$\\downarrow$\", r\"$\\leftarrow$\"]\n",
    "  greedy_actions = np.argmax(pi, axis=2)\n",
    "  grid.plot_grid()\n",
    "  h, w = grid._layout.shape\n",
    "  for y in range(2, h-2):\n",
    "    for x in range(2, w-2):\n",
    "      action_name = action_names[greedy_actions[y-2, x-2]]\n",
    "      plt.text(x, y, action_name, ha='center', va='center')"
   ]
  },
  {
   "cell_type": "markdown",
   "id": "4afa08f0",
   "metadata": {},
   "source": [
    "# Part 1: Planning \n",
    "You will implement several algorithms to investigate the role of planning in reinforcement learning."
   ]
  },
  {
   "cell_type": "markdown",
   "id": "74c14bb2",
   "metadata": {},
   "source": [
    "## 1.1: Implement Models"
   ]
  },
  {
   "cell_type": "markdown",
   "id": "f1f36bc9",
   "metadata": {},
   "source": [
    "### Q 1.1.1 \n",
    "\n",
    "Implement a trainable **tabular model** of the environment.\n",
    "\n",
    "The model should implement: \n",
    "* a *next_state* method, taking a state and action and returning the next state in the environment.\n",
    "* a *reward* method, taking a state and action and returning the immediate reward associated to executing that action in that state.\n",
    "* a *discount* method, taking a state and action and returning the discount associated to executing that action in that state.\n",
    "* a *transition* method, taking a state and an action and returning both the next state and the reward associated to that transition.\n",
    "* a *update* method, taking a full transition *(state, action, reward, next_state)* and updating the model predictions.\n",
    "\n",
    "Given that the environment is deterministic and tabular the model will reduce to a simple lookup table."
   ]
  },
  {
   "cell_type": "code",
   "execution_count": 8,
   "id": "44db0b66",
   "metadata": {},
   "outputs": [],
   "source": [
    "class TabularModel(object):\n",
    "\n",
    "  def __init__(self, number_of_states, number_of_actions):\n",
    "    # Initialise a state, reward, and discount using the input (the number of states and the number of actions)\n",
    "    self.State = np.zeros((number_of_states, number_of_actions), dtype = 'int8')\n",
    "    self.Reward = np.zeros((number_of_states, number_of_actions), dtype = 'float32')\n",
    "    self.Discount = np.zeros((number_of_states, number_of_actions), dtype = 'float32')\n",
    "    return\n",
    "\n",
    "  def next_state(self, s, a):\n",
    "    return self.State[s, a]\n",
    "  \n",
    "  def reward(self, s, a):\n",
    "    return self.Reward[s, a]\n",
    "\n",
    "  def discount(self, s, a):\n",
    "    return self.Discount[s, a]\n",
    "  \n",
    "  def transition(self, state, action):\n",
    "    return (\n",
    "        self.reward(state, action), \n",
    "        self.discount(state, action),\n",
    "        self.next_state(state, action))\n",
    "  \n",
    "  def update(self, state, action, reward, discount, next_state):\n",
    "    self.State[state, action] = next_state\n",
    "    self.Reward[state, action] = reward\n",
    "    self.Discount[state, action] = discount\n",
    "    return"
   ]
  },
  {
   "cell_type": "markdown",
   "id": "7ccfb19f",
   "metadata": {},
   "source": [
    "### Q 1.1.2 \n",
    "\n",
    "Implement a trainable **linear model** of the environment.\n",
    "\n",
    "The Model should implement: \n",
    "* a *next_state* method, taking a state and action and returning the predicted next state in the environment.\n",
    "* a *reward* method, taking a state and action and returning the predicted immediate reward associated to executing that action in that state.\n",
    "* a *discount* method, taking a state and action and returning the predicted discount associated to executing that action in that state.\n",
    "* a *transition* method, taking a state and an action and returning both the next state and the reward associated to that transition.\n",
    "* a *update* method, taking a full transition *(state, action, reward, next_state)* and updating the model (in its reward, discount and next_state component)\n",
    "\n",
    "For each selected action, the predicted reward $r'$, discount $\\gamma'$ and next state $\\mathbf{s}'$ will all be a linear function of the current state $\\mathbf{s}$.\n",
    "* $\\mathbf{s}' = \\mathbf{M}_a \\mathbf{s}$\n",
    "* $r' = (\\mathbf{m}^r_a)^{\\top} \\mathbf{s}$\n",
    "* $\\gamma' = (\\mathbf{m}^{\\gamma}_a)^{\\top} \\mathbf{s}$\n",
    "\n",
    "Where $\\mathbf{M}_a$ is a matrix of shape $(\\text{number_of_features}, \\text{number_of_features})$, $\\mathbf{m}^r_a$ and $\\mathbf{m}^{\\gamma}_a$ are vectors of shape $(\\text{number_of_features},)$\n",
    "\n",
    "The parameters of all these linear transformations must be trained by stochastic gradient descent. \n",
    "\n",
    "Write down the update to the parameters of the models and implement the update in the model below.\n"
   ]
  },
  {
   "cell_type": "code",
   "execution_count": 9,
   "id": "032501b9",
   "metadata": {},
   "outputs": [],
   "source": [
    "class LinearModel(object):\n",
    "\n",
    "  def __init__(self, number_of_features, number_of_actions):\n",
    "    self._transition = np.zeros((number_of_actions, number_of_features, number_of_features), dtype = 'float32')\n",
    "    self._reward = np.zeros((number_of_actions, number_of_features), dtype = 'float32')\n",
    "    self._discount = np.zeros((number_of_actions, number_of_features), dtype = 'float32')\n",
    "\n",
    "  def next_state(self, s, a):\n",
    "    M_a = self._transition[a, :, :]\n",
    "    next_State = np.matmul(M_a, s)\n",
    "    return next_State\n",
    "  \n",
    "  def reward(self, s, a):\n",
    "    m_r_a = self._reward[a, :]\n",
    "    predicted_reward = np.matmul(m_r_a, s)\n",
    "    return predicted_reward\n",
    "\n",
    "  def discount(self, s, a):\n",
    "    m_gamma_a = self._discount[a, :]\n",
    "    predicted_discount = np.matmul(m_gamma_a, s)\n",
    "    return predicted_discount\n",
    "\n",
    "  def transition(self, state, action):\n",
    "    return (\n",
    "        self.reward(state, action),\n",
    "        self.discount(state, action),\n",
    "        self.next_state(state, action))\n",
    "\n",
    "  def update(self, state, action, reward, discount, next_state, step_size=0.1):\n",
    "    self._transition[action, :, :] += step_size * np.matmul((next_state - self.next_state(state, action)).reshape(-1, 1), state.reshape(1, -1))\n",
    "    self._reward[action, :] += step_size * (reward - self.reward(state, action)) * state\n",
    "    self._discount[action, :] += step_size * (discount - self.discount(state, action)) * state\n",
    "    return"
   ]
  },
  {
   "cell_type": "markdown",
   "id": "d733f76a",
   "metadata": {},
   "source": [
    "## 1.2: Implement Agents\n",
    "\n",
    "We are going to implement 4 agent:\n",
    "- Tabular Q-learning with Experience Replay\n",
    "- Tabular Dyna-Q with a tabular model\n",
    "- Linear Q-learning with Experience Replay\n",
    "- Linear Dyna-Q with a linear model\n",
    "\n",
    "All agents you implement in this section must share the agent interface below:\n",
    "\n",
    "#### `__init__(self, number_of_actions, number_of_states, initial_observation)`:\n",
    "The constructor will provide the agent the number of actions, number of states, and the initial observation. You can get such initial observation by instatiating an environment (e.g., `grid = Grid()`), and then calling `grid.get_obs()`.\n",
    "\n",
    "#### `step(self, reward, discount, next_observation)`:\n",
    "The step should update the internal values, and return a new action to take. When the discount is zero ($\\text{discount} = \\gamma = 0$), the `next_observation` will be the initial observation of the next episode.  One shouldn't bootstrap on the value of this state, which can simply be guaranteed when using \"$\\gamma \\cdot v(\\text{next_observation})$\" in the update, because $\\gamma = 0$.  So, the end of an episode can be seamlessly handled with the same step function. Note that to perform updates within the `step` function you typically need to store the previous state and/or action: you may set such previous action to 0 in the constructor for consumption in the first step of the first episode of the agent's lifetime.\n",
    " \n",
    "#### `q_values()`:\n",
    "For tabular agents **only**. This method must return a matrix of Q values of shape: (`number_of_states`, `number_of_actions`)\n",
    "\n",
    "#### `q_values(state)`:\n",
    "For agents with function approximation **only**. This method must return an array of Q values of shape: (`number_of_actions`)\n"
   ]
  },
  {
   "cell_type": "markdown",
   "id": "0a14db12",
   "metadata": {},
   "source": [
    "### Q 1.2.1 \n",
    "\n",
    "Implement an agent that uses **Experience Replay** to learn action values, at each step:\n",
    "* select actions randomly\n",
    "* accumulate each observed transition *(s, a, r, g, s')* in a *replay buffer*,\n",
    "* apply an online Q-learning update with the most recently observed transition,\n",
    "* apply multiple Q-learning updates based on transitions sampled (uniformly) from the *replay buffer* (in addition to the online updates).\n",
    "\n",
    "So, the `step` function of the agent will, conceptually, look as follows:\n",
    "\n",
    "1. Append most recent observed transition $(S_t, A_t, R_{t+1}, \\gamma, S_{t+1})$ to replay buffer\n",
    "\n",
    "1. Update values: $Q(S_t, A_t)$ with Q-learning, using transition $(S_t, A_t, R_{t+1}, \\gamma, S_{t+1})$ \n",
    "\n",
    "1. Loop repeat n times:\n",
    "\n",
    "  1. Sample $S, A, R, \\gamma, S'$ from replay\n",
    "  \n",
    "  1. Update values: $Q(S, A)$ with Q-learning, using transition $(S, A, R, \\gamma, S')$ "
   ]
  },
  {
   "cell_type": "code",
   "execution_count": 10,
   "id": "861f34c5",
   "metadata": {},
   "outputs": [],
   "source": [
    " class ExperienceQ(object):\n",
    "\n",
    "  def __init__(\n",
    "      self, number_of_states, number_of_actions, initial_state, \n",
    "      behaviour_policy, num_offline_updates=0, step_size=0.1):\n",
    "    \n",
    "    self._q_value = np.zeros((number_of_states, number_of_actions))\n",
    "    self._state = initial_state\n",
    "    self._behaviour_policy = behaviour_policy\n",
    "    self._updates = num_offline_updates\n",
    "    self._step_size = step_size\n",
    "    self._action = 0\n",
    "    self._replay_buffer = []\n",
    "    self.number_of_actions = number_of_actions\n",
    "    return\n",
    "    \n",
    "  @property\n",
    "  def q_values(self):\n",
    "    return self._q_value\n",
    "\n",
    "  def step(self, reward, discount, next_state):\n",
    "    s = self._state\n",
    "    a = self._action\n",
    "    r = reward\n",
    "    g = discount\n",
    "    next_s = next_state  \n",
    "    \n",
    "    # 1. Append most recent observed transition (s, a, r, g, next_s) to replay buffer\n",
    "    self._replay_buffer.append((s, a, r, g, next_state))\n",
    "    \n",
    "    # 2. Update values with Q-learning, using transition (s, a, r, g, next_s)\n",
    "    self._q_value[s, a] += self._step_size * (r + g * np.max(self._q_value[next_s]) - self._q_value[s, a])\n",
    "    \n",
    "    # Use floor function to make integer\n",
    "    sample_index = np.floor((len(self._replay_buffer) * np.random.rand(self._updates)))\n",
    "    # 3. Loop repeat n times\n",
    "    for n in range(len(sample_index)):\n",
    "        # 3.A Sample (s, a, r, g, next_s) from replay\n",
    "        replay_s, replay_a, replay_r, replay_g, replay_next_s = self._replay_buffer[(int)(sample_index[n])]\n",
    "        # 3.B Update values with Q-learning, using transition (s, a, r, g, next_s)\n",
    "        self._q_value[replay_s, replay_a] += self._step_size * (replay_r + replay_g * np.max(self._q_value[replay_next_s]) - self._q_value[replay_s, replay_a])\n",
    "    \n",
    "    # Return the action and state\n",
    "    self._action = self._behaviour_policy(self._q_value[next_s])\n",
    "    self._state = next_s\n",
    "    return self._action"
   ]
  },
  {
   "cell_type": "markdown",
   "id": "bdceb658",
   "metadata": {},
   "source": [
    "\n",
    "### Q 1.2.2\n",
    "\n",
    "Implement an agent that uses **Dyna-Q** to learn action values.\n",
    "* select actions randomly\n",
    "* accumulate all observed transitions *(s, a)* in the environment in a *replay buffer*,\n",
    "* apply an online Q-learning to Q-value\n",
    "* apply an update to the *model* based on the latest transition\n",
    "* apply multiple Q-learning updates based on transitions *(s, a, model.reward(s), model.next_state(s))* for some previous state and action pair *(s, a)*.\n",
    "\n",
    "So, the `step` function conceptually looks as follows:\n",
    "1. Append most recent observed transition $(S_t, A_t)$ to replay buffer\n",
    "\n",
    "1. Update values: $Q(S_t, A_t)$ with Q-learning, using transition $(S_t, A_t, R_{t+1}, \\gamma, S_{t+1})$\n",
    "\n",
    "1. Update model: $M(S_t, A_t)$, using transition $(S_t, A_t, R_{t+1}, \\gamma, S_{t+1})$\n",
    "\n",
    "1. Loop repeat n times:\n",
    "\n",
    "  1. Sample $S, A$ from replay\n",
    "  \n",
    "  1. Generate $R, \\gamma, S' = M(S, A)$\n",
    "  \n",
    "  1. Update values: $Q(S, A)$ with Q-learning, using transition $(S, A, R, \\gamma, S')$ "
   ]
  },
  {
   "cell_type": "code",
   "execution_count": 11,
   "id": "6fd4e5df",
   "metadata": {},
   "outputs": [],
   "source": [
    "class DynaQ(object):\n",
    "\n",
    "  def __init__(\n",
    "      self, number_of_states, number_of_actions, initial_state, \n",
    "      behaviour_policy, num_offline_updates=0, step_size=0.1):\n",
    "    self._q_value = np.zeros((number_of_states, number_of_actions))\n",
    "    self._state = initial_state\n",
    "    self._behaviour_policy = behaviour_policy\n",
    "    self._updates = num_offline_updates\n",
    "    self._step_size = step_size\n",
    "    self._action = 0\n",
    "    self._replay_buffer = []\n",
    "    self._model = TabularModel(number_of_states, number_of_actions)\n",
    "    self.number_of_actions = number_of_actions\n",
    "    return\n",
    "    \n",
    "  @property\n",
    "  def q_values(self):\n",
    "    return self._q_value\n",
    "\n",
    "  def step(self, reward, discount, next_state):\n",
    "    s = self._state\n",
    "    a = self._action\n",
    "    r = reward\n",
    "    g = discount\n",
    "    next_s = next_state\n",
    "    \n",
    "    # 1. Append the most recent observed transition (state and action) to replay buffer\n",
    "    self._replay_buffer.append((s, a))\n",
    "    # 2. Update values with Q-learning, using transition (s, a, r, g, next_s)\n",
    "    self._q_value[s, a] += self._step_size * (r + g * np.max(self._q_value[next_s]) - self._q_value[s, a])\n",
    "    # 3. Update model a transition matrix from a LindearModel using transition (s, a, r, g, next_s)\n",
    "    self._model.update(s, a, r, g, next_s)\n",
    "    \n",
    "    # Use floor function to make integer\n",
    "    sample_index = np.floor((len(self._replay_buffer) * np.random.rand(self._updates)))\n",
    "    # 4. Loop repeat 'n' times\n",
    "    for n in range(self._updates):\n",
    "        # 4.A Sample the state and action from replay buffer\n",
    "        replay_s, replay_a = self._replay_buffer[(int)(sample_index[n])]\n",
    "        # 4.B Generate replay reward, discount and next state to the transition from the LinearModel\n",
    "        replay_r, replay_g, replay_next_s = self._model.transition(replay_s, replay_a)\n",
    "        # 4.C Update values with Q-learning, using transition (s, a, r, g, next_s)\n",
    "        self._q_value[replay_s, replay_a] += self._step_size * (replay_r + replay_g * np.max(self._q_value[replay_next_s]) - self._q_value[replay_s, replay_a])\n",
    "    \n",
    "    # Return the action and state\n",
    "    self._action = self._behaviour_policy(self._q_value[next_s])\n",
    "    self._state = next_s\n",
    "    return self._action"
   ]
  },
  {
   "cell_type": "markdown",
   "id": "5ffdf52a",
   "metadata": {},
   "source": [
    "### Q 1.2.3 \n",
    "\n",
    "Implement an agent that uses **Experience Replay** to learn action values as a **linear function approximation** over a given set of features.\n",
    "\n",
    "Learn the value estimates via online stochastic gradient descent.  The observed `state` will now be a vector of length `number_of_features`, and the value estimate will be $w_t^\\top x_t$, where $w_t$ are the current weights and $x_t$ is the observed (agent) state at time $t$."
   ]
  },
  {
   "cell_type": "code",
   "execution_count": 12,
   "id": "355daba7",
   "metadata": {},
   "outputs": [],
   "source": [
    "class LinearExperienceQ(ExperienceQ):\n",
    "\n",
    "  def __init__(\n",
    "      self, number_of_features, number_of_actions, *args, **kwargs):\n",
    "    super(LinearExperienceQ, self).__init__(\n",
    "        number_of_actions=number_of_actions, *args, **kwargs)\n",
    "    self._transition = np.zeros((number_of_actions, number_of_features), dtype = 'float32')\n",
    "    return \n",
    "\n",
    "  def q(self, state):\n",
    "    return np.matmul(self._transition, state)\n",
    "\n",
    "  def step(self, reward, discount, next_state):\n",
    "    s = self._state\n",
    "    a = self._action\n",
    "    r = reward\n",
    "    g = discount\n",
    "    next_s = next_state\n",
    "    \n",
    "    # 1. Append the most recent observed transition (s, a, r, g, next_s) to replay buffer\n",
    "    self._replay_buffer.append((s, a, r, g, next_s))\n",
    "    # 2. Update transition with Q-learning, using the transition (s, a, r, g, next_s)\n",
    "    self._transition[a, :] += self._step_size * (r + g * np.max(np.matmul(self._transition, next_s)) - np.matmul(self._transition, s)[a]) * s\n",
    "    \n",
    "    # Use floor function to make integer\n",
    "    sample_index = np.floor((len(self._replay_buffer) * np.random.rand(self._updates)))\n",
    "    # 3. Loop repeat 'n' times\n",
    "    for n in range(self._updates):\n",
    "        # 3.A Sample the transition (s, a, r, g, next_s) from replay buffer\n",
    "        replay_s, replay_a, replay_r, replay_g, replay_next_s = self._replay_buffer[(int)(sample_index[n])]\n",
    "        # 3.B Update the transition (s, a, r, g, next_s) with Q-learning\n",
    "        self._transition[replay_a, :] += self._step_size * (replay_r + replay_g * np.max(np.matmul(self._transition, replay_next_s)) - np.matmul(self._transition, replay_s)[replay_a]) * replay_s\n",
    "    \n",
    "    # Return the action and state\n",
    "    self._action = self._behaviour_policy(np.matmul(self._transition, next_s))\n",
    "    self._state = next_s\n",
    "    return self._action"
   ]
  },
  {
   "cell_type": "markdown",
   "id": "d7eb5800",
   "metadata": {},
   "source": [
    "### Q 1.2.4 \n",
    "\n",
    "Implement an agent that uses **Dyna-Q** that uses a **linear function approximation** to represent values as well as for the model of the environment.\n",
    "\n",
    "Represent and learn both the **transition model** and the **reward model** as linear, action-dependent transformations of the given set of features.  The transition and reward models should be represented separately.  Implement separate models for each action (instead of, e.g., passing a one-hot identifier of the action in).\n",
    "\n",
    "Learn value estimates, transition model and reward model via online stochastic gradient descent."
   ]
  },
  {
   "cell_type": "code",
   "execution_count": 13,
   "id": "e1c38098",
   "metadata": {},
   "outputs": [],
   "source": [
    "class LinearDynaQ(DynaQ):\n",
    "\n",
    "  def __init__(self, number_of_features, number_of_actions, model_step_size=0.1,\n",
    "               *args, **kwargs):\n",
    "    super(LinearDynaQ, self).__init__(\n",
    "        number_of_actions=number_of_actions, *args, **kwargs)\n",
    "    self._transition = np.zeros((number_of_actions, number_of_features), dtype = 'float32')\n",
    "    self._model = LinearModel(number_of_features, number_of_actions)\n",
    "    return\n",
    "\n",
    "  def q(self, state):\n",
    "    return np.matmul(self._transition, state)\n",
    "\n",
    "  def step(self, reward, discount, next_state):\n",
    "    s = self._state\n",
    "    a = self._action\n",
    "    r = reward\n",
    "    g = discount\n",
    "    next_s = next_state\n",
    "    \n",
    "    # 1. Append the most recent observed transition (s, a) to replay buffer\n",
    "    self._replay_buffer.append((s, a))\n",
    "    # 2. Update transition with Q-learning, using the transition (s, a)\n",
    "    self._transition[a, :] += self._step_size * (r + g * np.max(np.matmul(self._transition, next_s)) - np.matmul(self._transition, s)[a]) * s\n",
    "    # 3. Update model with linear function approximation from a LinearModel using transition (s, a, r, g, next_s, step_size)\n",
    "    self._model.update(s, a, r, g, next_s, self._step_size)\n",
    "    \n",
    "    # Use floor function to make integer\n",
    "    sample_index = np.floor((len(self._replay_buffer) * np.random.rand(self._updates)))\n",
    "    # 4. Loop repeat 'n' times\n",
    "    for n in range(self._updates):\n",
    "        # 4.A Sample the state and action from replay buffer\n",
    "        replay_s, replay_a = self._replay_buffer[(int)(sample_index[n])]\n",
    "        # 4.B Generate replay reward, discount and next state to the transition from the LinearModel\n",
    "        replay_r, replay_g, replay_next_s = self._model.transition(replay_s, replay_a)\n",
    "        # 4.C Update the transition (s, a, r, g, next_s) with Q-learning\n",
    "        self._transition[replay_a, :] += self._step_size * (replay_r + replay_g * np.max(np.matmul(self._transition, replay_next_s)) - np.matmul(self._transition, replay_s)[replay_a]) * replay_s\n",
    "        \n",
    "    # Return the action and state\n",
    "    self._action = self._behaviour_policy(np.matmul(self._transition, next_s))\n",
    "    self._state = next_s\n",
    "    return self._action"
   ]
  },
  {
   "cell_type": "markdown",
   "id": "c6401ef3",
   "metadata": {},
   "source": [
    "## 1.3: Analyse Results\n",
    "\n",
    "You will have to analyse experiments that evaluate each of these 5 agents in various settings, and in terms of different metrics.\n",
    "\n",
    "- Tabular learning: data efficiency\n",
    "- Tabular learning: computational efficiency\n",
    "- Linear function approximation\n",
    "- Learning in non-stationary environments"
   ]
  },
  {
   "cell_type": "markdown",
   "id": "9bb0a246",
   "metadata": {},
   "source": [
    "### Run data efficiency experiments\n",
    "\n",
    "*Online Q-learning*\n",
    "\n",
    "* $\\text{number_of_steps}$ = $2000$ and $\\text{num_offline_updates}$ = $0$\n",
    "\n",
    "*Experience Replay*\n",
    "\n",
    "* $\\text{number_of_steps}$ = $2000$ and $\\text{num_offline_updates}$ = $30$\n",
    "\n",
    "*DynaQ*\n",
    "\n",
    "* $\\text{number_of_steps}$ = $2000$ and $\\text{num_offline_updates}$ = $30$"
   ]
  },
  {
   "cell_type": "code",
   "execution_count": 14,
   "id": "8cc7d4ae",
   "metadata": {},
   "outputs": [
    {
     "data": {
      "image/png": "[encoded data removed]",
      "text/plain": [
       "<Figure size 576x576 with 10 Axes>"
      ]
     },
     "metadata": {
      "needs_background": "light"
     },
     "output_type": "display_data"
    }
   ],
   "source": [
    "# Online Q\n",
    "grid = Grid()\n",
    "agent = ExperienceQ(\n",
    "  grid._layout.size, 4, grid.get_obs(),\n",
    "  random_policy, num_offline_updates=0, step_size=0.1)\n",
    "run_experiment(grid, agent, int(2e3))\n",
    "q = agent.q_values.reshape(grid._layout.shape + (4,))\n",
    "plot_action_values(q)"
   ]
  },
  {
   "cell_type": "code",
   "execution_count": 15,
   "id": "81fa0636",
   "metadata": {},
   "outputs": [
    {
     "data": {
      "image/png": "[encoded data removed]",
      "text/plain": [
       "<Figure size 576x576 with 10 Axes>"
      ]
     },
     "metadata": {
      "needs_background": "light"
     },
     "output_type": "display_data"
    }
   ],
   "source": [
    "# Experience Replay\n",
    "grid = Grid()\n",
    "agent = ExperienceQ(\n",
    "  grid._layout.size, 4, grid.get_obs(),\n",
    "  random_policy, num_offline_updates=30, step_size=0.1)\n",
    "run_experiment(grid, agent, int(2e3))\n",
    "q = agent.q_values.reshape(grid._layout.shape + (4,))\n",
    "plot_action_values(q)"
   ]
  },
  {
   "cell_type": "code",
   "execution_count": 16,
   "id": "ce797550",
   "metadata": {},
   "outputs": [
    {
     "data": {
      "image/png": "[encoded data removed]",
      "text/plain": [
       "<Figure size 576x576 with 10 Axes>"
      ]
     },
     "metadata": {
      "needs_background": "light"
     },
     "output_type": "display_data"
    }
   ],
   "source": [
    "# DynaQ\n",
    "grid = Grid()\n",
    "agent = DynaQ(\n",
    "  grid._layout.size, 4, grid.get_obs(),\n",
    "  random_policy, num_offline_updates=30, step_size=0.1)\n",
    "run_experiment(grid, agent, int(2e3))\n",
    "q = agent.q_values.reshape(grid._layout.shape + (4,))\n",
    "plot_action_values(q)"
   ]
  },
  {
   "cell_type": "markdown",
   "id": "0f2a9932",
   "metadata": {},
   "source": [
    "### Q 1.3.1\n",
    "\n",
    "In the experiments above, how do the learnt value estimates differ between the online Q-learning, ExperienceReplay, and Dyna Q agents?\n",
    "\n",
    "Explain meaningful differences in at most 5 sentences.\n",
    "\n",
    "> The value estimates of the online Q-learning agent represents significantly different compared to the ExperienceReplay and Dyna Q agents because the agent in online Q-learning does not utilise the planning to learn the model, which results in the action values are the same. Only the last step is applied to learning since each policy only updates each episode that corresponds to each step, therefore the $v(s)$ in the online Q-learning represents equally except for the right side of the top corner. The value estimate of the ExperienceReplay agent provokes continuous updates, which reduces the variance of updates so that the data utilisation of the ExperienceReplay agent is extremely efficient than the online Q-learning agent as shown in the above figures. On the other hand, the Dyna Q agent allows faster convergence and looks more efficient than the online Q-learning agent because of the large number of offline updates and also updating its model (explain this meaning in the next sentence). Furthermore, the Dyna Q and ExperienceReplay agents look significantly similar but slightly different because the structures of their algorithms are similar except for the Dyna Q updates its model, which generates the reward ($R$) and next state ($S^{'}$) from the transition matrix ($M(S, A)$) at the latest transition."
   ]
  },
  {
   "cell_type": "markdown",
   "id": "7be7c1a1",
   "metadata": {},
   "source": [
    "### Run experiments matching computational cost\n",
    "\n",
    "*Online Q-learning*\n",
    "\n",
    "* $\\text{number_of_steps}$ = $62,000$ and $\\text{num_offline_updates}$ = $0$\n",
    "\n",
    "*ExperienceReplay*\n",
    "\n",
    "* $\\text{number_of_steps}$ = $2000$ and $\\text{num_offline_updates}$ = $30$\n",
    "\n",
    "*DynaQ*\n",
    "\n",
    "* $\\text{number_of_steps}$ = $2000$ and $\\text{num_offline_updates}$ = $30$"
   ]
  },
  {
   "cell_type": "code",
   "execution_count": 17,
   "id": "2230dbc8",
   "metadata": {},
   "outputs": [
    {
     "data": {
      "image/png": "[encoded data removed]",
      "text/plain": [
       "<Figure size 576x576 with 10 Axes>"
      ]
     },
     "metadata": {
      "needs_background": "light"
     },
     "output_type": "display_data"
    }
   ],
   "source": [
    "# OnlineQ\n",
    "grid = Grid()\n",
    "agent = ExperienceQ(\n",
    "  grid._layout.size, 4, grid.get_obs(),\n",
    "  random_policy, num_offline_updates=0, step_size=0.1)\n",
    "run_experiment(grid, agent, int(62e3))\n",
    "q = agent.q_values.reshape(grid._layout.shape + (4,))\n",
    "plot_action_values(q)"
   ]
  },
  {
   "cell_type": "code",
   "execution_count": 18,
   "id": "56003422",
   "metadata": {},
   "outputs": [
    {
     "data": {
      "image/png": "[encoded data removed]",
      "text/plain": [
       "<Figure size 576x576 with 10 Axes>"
      ]
     },
     "metadata": {
      "needs_background": "light"
     },
     "output_type": "display_data"
    }
   ],
   "source": [
    "# Experience Replay\n",
    "grid = Grid()\n",
    "agent = ExperienceQ(\n",
    "  grid._layout.size, 4, grid.get_obs(),\n",
    "  random_policy, num_offline_updates=30, step_size=0.1)\n",
    "run_experiment(grid, agent, int(2e3))\n",
    "q = agent.q_values.reshape(grid._layout.shape + (4,))\n",
    "plot_action_values(q)"
   ]
  },
  {
   "cell_type": "code",
   "execution_count": 19,
   "id": "ce38bf61",
   "metadata": {},
   "outputs": [
    {
     "data": {
      "image/png": "[encoded data removed]",
      "text/plain": [
       "<Figure size 576x576 with 10 Axes>"
      ]
     },
     "metadata": {
      "needs_background": "light"
     },
     "output_type": "display_data"
    }
   ],
   "source": [
    "# DynaQ\n",
    "grid = Grid()\n",
    "agent = DynaQ(\n",
    "  grid._layout.size, 4, grid.get_obs(),\n",
    "  random_policy, num_offline_updates=30, step_size=0.1)\n",
    "run_experiment(grid, agent, int(2e3))\n",
    "q = agent.q_values.reshape(grid._layout.shape + (4,))\n",
    "plot_action_values(q)"
   ]
  },
  {
   "cell_type": "markdown",
   "id": "b0c88c26",
   "metadata": {},
   "source": [
    "What if sampling from the environment is cheap and we don't care about data efficiency but only care about the amount of computation we use? \n",
    "\n",
    "The experiments directly above are the same as those above question 1.3.1, except that we ran the experiments for the same number of **total updates**, rather than the same number of **steps in the environment**, therefore using more data for the online Q-learning algorithm which *only* updates from real data.\n",
    "\n",
    "### Q 1.3.2\n",
    "\n",
    "How do the learnt values, and the relative performances, change, compared to the experiment above question 1.3.1?  Explain in at most 5 sentences.\n",
    "\n",
    "> The performance of the online Q-learning agent is significantly improved when it compares to the result from Question 1.3.1 because the agent was run the more number of steps and did not care about the data efficiency anymore, therefore the agent uses more data, which interacted with the real data. The number of steps and the number of offline updates in ExperienceReplay and Dyna Q agents are fixed to 2000 and 30, respectively (same conditions as Question 1.3.1).  The performance of these agents looks worse than the online Q-learning agent in the above figures. This is because the online Q-learning runs more steps (good) and the ExperienceReplay agent stays a long time in the buffer, which results in a potentially biased offline update that can lead to minor distortions. Furthermore, the Dyna Q agent is performing with an updated model from the transition matrix so that it also occurs biased because of the same principle as the ExperienceReplay agent."
   ]
  },
  {
   "cell_type": "markdown",
   "id": "ac28609a",
   "metadata": {},
   "source": [
    "### Run experiments with linear function approximation\n",
    "\n",
    "We will now use the $\\text{FeatureGrid}$ domain, and consider the same 3 algorithms in the context of linear function approximation.\n",
    "\n",
    "*Online Q-learning*\n",
    "\n",
    "* $\\text{number_of_steps}$ = $100,000$ and $\\text{num_offline_updates}$ = $0$\n",
    "\n",
    "*ExperienceReplay*\n",
    "\n",
    "* $\\text{number_of_steps}$ = $100,000$ and $\\text{num_offline_updates}$ = $10$\n",
    "\n",
    "*DynaQ*\n",
    "\n",
    "* $\\text{number_of_steps}$ = $100,000$ and $\\text{num_offline_updates}$ = $10$"
   ]
  },
  {
   "cell_type": "code",
   "execution_count": 20,
   "id": "fb7a1eb4",
   "metadata": {},
   "outputs": [
    {
     "data": {
      "image/png": "[encoded data removed]",
      "text/plain": [
       "<Figure size 576x576 with 10 Axes>"
      ]
     },
     "metadata": {
      "needs_background": "light"
     },
     "output_type": "display_data"
    },
    {
     "data": {
      "image/png": "[encoded data removed]",
      "text/plain": [
       "<Figure size 216x216 with 1 Axes>"
      ]
     },
     "metadata": {},
     "output_type": "display_data"
    }
   ],
   "source": [
    "# OnlineQ\n",
    "grid = FeatureGrid()\n",
    "\n",
    "agent = LinearExperienceQ(\n",
    "  number_of_features=grid.number_of_features, number_of_actions=4,\n",
    "  number_of_states=grid._layout.size, initial_state=grid.get_obs(),\n",
    "  num_offline_updates=0, step_size=0.01, behaviour_policy=random_policy)\n",
    "run_experiment(grid, agent, int(1e5))\n",
    "q = np.reshape(\n",
    "    np.array([agent.q(grid.int_to_features(i))\n",
    "              for i in range(grid.number_of_states)]),\n",
    "    [grid._layout.shape[0], grid._layout.shape[1], 4])\n",
    "plot_action_values(q)\n",
    "plot_greedy_policy(grid, q)"
   ]
  },
  {
   "cell_type": "code",
   "execution_count": 21,
   "id": "aeffdaca",
   "metadata": {},
   "outputs": [
    {
     "data": {
      "image/png": "[encoded data removed]",
      "text/plain": [
       "<Figure size 576x576 with 10 Axes>"
      ]
     },
     "metadata": {
      "needs_background": "light"
     },
     "output_type": "display_data"
    },
    {
     "data": {
      "image/png": "[encoded data removed]",
      "text/plain": [
       "<Figure size 216x216 with 1 Axes>"
      ]
     },
     "metadata": {},
     "output_type": "display_data"
    }
   ],
   "source": [
    "# Experience Replay\n",
    "grid = FeatureGrid()\n",
    "\n",
    "agent = LinearExperienceQ(\n",
    "  number_of_features=grid.number_of_features, number_of_actions=4,\n",
    "  number_of_states=grid._layout.size, initial_state=grid.get_obs(),\n",
    "  num_offline_updates=10, step_size=0.01, behaviour_policy=random_policy)\n",
    "run_experiment(grid, agent, int(1e5))\n",
    "q = np.reshape(\n",
    "    np.array([agent.q(grid.int_to_features(i))\n",
    "              for i in range(grid.number_of_states)]),\n",
    "    [grid._layout.shape[0], grid._layout.shape[1], 4])\n",
    "plot_action_values(q)\n",
    "plot_greedy_policy(grid, q)"
   ]
  },
  {
   "cell_type": "code",
   "execution_count": 22,
   "id": "1573d34d",
   "metadata": {},
   "outputs": [
    {
     "data": {
      "image/png": "[encoded data removed]",
      "text/plain": [
       "<Figure size 576x576 with 10 Axes>"
      ]
     },
     "metadata": {
      "needs_background": "light"
     },
     "output_type": "display_data"
    },
    {
     "data": {
      "image/png": "[encoded data removed]",
      "text/plain": [
       "<Figure size 216x216 with 1 Axes>"
      ]
     },
     "metadata": {},
     "output_type": "display_data"
    }
   ],
   "source": [
    "# LinearDynaQ\n",
    "grid = FeatureGrid()\n",
    "\n",
    "agent = LinearDynaQ(\n",
    "  number_of_features=grid.number_of_features, \n",
    "  number_of_actions=4,\n",
    "  number_of_states=grid._layout.size, \n",
    "  initial_state=grid.get_obs(),\n",
    "  num_offline_updates=10, \n",
    "  step_size=0.01,\n",
    "  behaviour_policy=random_policy)\n",
    "\n",
    "run_experiment(grid, agent, int(1e5))\n",
    "q = np.reshape(\n",
    "    np.array([agent.q(grid.int_to_features(i))\n",
    "              for i in range(grid.number_of_states)]),\n",
    "    [grid._layout.shape[0], grid._layout.shape[1], 4])\n",
    "plot_action_values(q)\n",
    "plot_greedy_policy(grid, q)"
   ]
  },
  {
   "cell_type": "markdown",
   "id": "188bf55e",
   "metadata": {},
   "source": [
    "### Q 1.3.3 \n",
    "\n",
    "How do the value estimates learnt with function approximation differ from those learnt in the tabular setting, as in the experiment above question 1.3.2?\n",
    "\n",
    "Explain the results in at most 5 sentences.\n",
    "\n",
    "> The figures from those agents with linear function approximation represent that they seem to be brighter and blurry than the tabular setting figures although the number of steps is applied more. It means that the agents with linear function approximation cannot properly distinguish a wall from the other states. This is because the agents of linear function approximation are updated all parameters in the state-action pair, including the other states.  Therefore, $v(s)$ with linear function approximation has a significantly similar colour, but it looks blurry. \n",
    "\n",
    "### Q 1.3.4 \n",
    "\n",
    "Inspect the policies derived by training agents with linear function approximation on `FeatureGrid'. \n",
    "\n",
    "How do they compare to the optimal policy?\n",
    "\n",
    "> The online Q-learning agent with linear function approximation might have a troubling issue between the states (ㅣ->ㅣ<-ㅣ) in the bottom-middle side as shown in the grid figure. It means that the agent can be possible moving only between two states when it reaches the area and would finally occur stuck. Furthermore, all agents (online Q-learning, ExperienceReplay, and Dyna Q) with linear function approximation cannot properly distinguish the wall and looks blurry as shown in $v(s)$ figures. This is because the walls cannot be defined accurately from the other states with linear function approximation while updating all parameters as mentioned in the previous question. Therefore, we can argue that all agents with linear function approximation are worse than the optimal policy."
   ]
  },
  {
   "cell_type": "markdown",
   "id": "6e417042",
   "metadata": {},
   "source": [
    "### Run experiments in a non stationary environments\n",
    "\n",
    "We now consider a non-stationary setting where after `pretrain_steps` in the environment, the goal is moved to a new location (from the top-right of the grid to the bottom-left - refer to \"Show gridworlds\"). The agent is allowed to continue training for a (shorter) amount of time in this new setting, and then we evaluate the value estimates.\n",
    "\n",
    "*Online Q-learning*\n",
    "\n",
    "* $\\text{pretrain_steps}$ = $20,000$,  $\\text{num_steps}$ = $666$, and $\\text{num_offline_updates}$ = $0$\n",
    "\n",
    "*ExperienceReplay*\n",
    "\n",
    "* $\\text{pretrain_steps}$ = $20,000$,  $\\text{num_steps}$ = $666$ and $\\text{num_offline_updates}$ = $10$\n",
    "\n",
    "*DynaQ*\n",
    "\n",
    "* $\\text{pretrain_steps}$ = $20,000$,  $\\text{num_steps}$ = $666$ and $\\text{num_offline_updates}$ = $10$"
   ]
  },
  {
   "cell_type": "code",
   "execution_count": 23,
   "id": "79f33561",
   "metadata": {},
   "outputs": [
    {
     "data": {
      "image/png": "[encoded data removed]",
      "text/plain": [
       "<Figure size 288x288 with 2 Axes>"
      ]
     },
     "metadata": {
      "needs_background": "light"
     },
     "output_type": "display_data"
    }
   ],
   "source": [
    "# Online Q\n",
    "\n",
    "# Train on first environment\n",
    "pretrain_steps = 2e4\n",
    "grid = Grid()\n",
    "agent = ExperienceQ(\n",
    "  grid._layout.size, 4, grid.get_obs(),\n",
    "  random_policy, num_offline_updates=0, step_size=0.1)\n",
    "run_experiment(grid, agent, int(pretrain_steps))\n",
    "q = agent.q_values.reshape(grid._layout.shape + (4,))\n",
    "\n",
    "# Change goal location\n",
    "alt_grid = AltGrid()\n",
    "run_experiment(alt_grid, agent, int(pretrain_steps / 30))\n",
    "alt_q = agent.q_values.reshape(alt_grid._layout.shape + (4,))\n",
    "plot_state_value(alt_q)"
   ]
  },
  {
   "cell_type": "code",
   "execution_count": 24,
   "id": "a9174091",
   "metadata": {},
   "outputs": [
    {
     "data": {
      "image/png": "[encoded data removed]",
      "text/plain": [
       "<Figure size 288x288 with 2 Axes>"
      ]
     },
     "metadata": {
      "needs_background": "light"
     },
     "output_type": "display_data"
    }
   ],
   "source": [
    "# Experience Replay\n",
    "\n",
    "# Train on first environment\n",
    "pretrain_steps = 2e4\n",
    "grid = Grid()\n",
    "agent = ExperienceQ(\n",
    "  grid._layout.size, 4, grid.get_obs(),\n",
    "  random_policy, num_offline_updates=30, step_size=0.1)\n",
    "run_experiment(grid, agent, int(pretrain_steps))\n",
    "q = agent.q_values.reshape(grid._layout.shape + (4,))\n",
    "\n",
    "# Change goal location\n",
    "alt_grid = AltGrid()\n",
    "run_experiment(alt_grid, agent, int(pretrain_steps / 30))\n",
    "alt_q = agent.q_values.reshape(alt_grid._layout.shape + (4,))\n",
    "plot_state_value(alt_q)"
   ]
  },
  {
   "cell_type": "code",
   "execution_count": 25,
   "id": "83615eff",
   "metadata": {},
   "outputs": [
    {
     "data": {
      "image/png": "[encoded data removed]",
      "text/plain": [
       "<Figure size 288x288 with 2 Axes>"
      ]
     },
     "metadata": {
      "needs_background": "light"
     },
     "output_type": "display_data"
    }
   ],
   "source": [
    "# DynaQ\n",
    "\n",
    "# Train on first environment\n",
    "pretrain_steps = 2e4\n",
    "grid = Grid()\n",
    "agent = DynaQ(\n",
    "  grid._layout.size, 4, grid.get_obs(),\n",
    "  random_policy, num_offline_updates=30, step_size=0.1)\n",
    "run_experiment(grid, agent, int(pretrain_steps))\n",
    "q = agent.q_values.reshape(grid._layout.shape + (4,))\n",
    "\n",
    "# Change goal location\n",
    "alt_grid = AltGrid()\n",
    "run_experiment(alt_grid, agent, int(pretrain_steps / 30))\n",
    "alt_q = agent.q_values.reshape(alt_grid._layout.shape + (4,))\n",
    "plot_state_value(alt_q)"
   ]
  },
  {
   "cell_type": "markdown",
   "id": "fd99a755",
   "metadata": {},
   "source": [
    "### Q 1.3.5 \n",
    "\n",
    "Compare the value estimates of online Q-learning and Dyna-Q, after training also on the new goal location. \n",
    "\n",
    "Explain what you see in at most 5 sentences. \n",
    "\n",
    "> In the online Q-learning agent figure, the wall looks brighter and not smoother overall than the Dyna Q agent's figure. This is because the online Q-learning agent tries to find some change environment out which means that the agent tries to interact with the changing environment to find a new algorithm and a new goal. \n",
    "On the other hand, the Dyna Q is a representative planning algorithm and the agent only updates $Q(s, a)$ for the states that have actually been visited and have been performed in that states, using recent observation states and actions to get reward and next state. Furthermore, the Dyna Q model is not trusted for unvisited states and actions not performed, so the planning allows learning much faster and efficient way because of some fixed policy. Therefore, the Dyna Q agent performs better than the online Q-learning agent, and the online Q-learning performance can be better than before if the number of steps is increased, even can converge.\n",
    "\n",
    "### Q 1.3.6 \n",
    "\n",
    "Compare the value estimates of online Experience Replay and Dyna-Q, after training also on the new goal location.\n",
    "\n",
    "Explain what you see in at most 5 sentences. \n",
    "\n",
    "> The value estimate $v(s)$ of the ExperienceReplay seems almost similar to before and after the environment changes, which means that the ExperienceReplay agent could not much realise the changing environment. In this case, the ExperienceReplay agent uses a replay buffer, which stores the recent parameters so that it relies heavily on historical information. Based on this principle, we can see that it is biased towards the original goal and slowly detects environmental changes (not drastically changes) as shown in the figure. On the other hand, the Dyna Q is a planning algorithm and uses recent observation states/actions to generate rewards/next state to update $Q(s, a)$ as mentioned in the previous question so that it finds a goal and converges faster. Therefore, the Dyna Q agent performs better than the ExperienceReplay agent when the environment (new goal location) is changed. \n"
   ]
  },
  {
   "cell_type": "code",
   "execution_count": null,
   "id": "8d62dcb3",
   "metadata": {},
   "outputs": [],
   "source": []
  }
 ],
 "metadata": {
  "kernelspec": {
   "display_name": "Python 3",
   "language": "python",
   "name": "python3"
  },
  "language_info": {
   "codemirror_mode": {
    "name": "ipython",
    "version": 3
   },
   "file_extension": ".py",
   "mimetype": "text/x-python",
   "name": "python",
   "nbconvert_exporter": "python",
   "pygments_lexer": "ipython3",
   "version": "3.8.8"
  }
 },
 "nbformat": 4,
 "nbformat_minor": 5
}
